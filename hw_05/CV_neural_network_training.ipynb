{
 "cells": [
  {
   "cell_type": "code",
   "execution_count": null,
   "metadata": {
    "id": "621Exb17Dm1C"
   },
   "outputs": [],
   "source": [
    "import torch\n",
    "import torch.nn as nn\n",
    "import torch.nn.functional as F\n",
    "\n",
    "import torchvision\n",
    "import torchvision.transforms as transforms\n",
    "\n",
    "import matplotlib.pyplot as plt\n",
    "\n",
    "from tqdm import tqdm"
   ]
  },
  {
   "cell_type": "markdown",
   "metadata": {},
   "source": [
    "**Перед тем как начать выполнять задание, определитесь где вы будете обучать модель: на GPU или CPU.**"
   ]
  },
  {
   "cell_type": "code",
   "execution_count": null,
   "metadata": {
    "colab": {
     "base_uri": "https://localhost:8080/"
    },
    "id": "_RjdUqFklWkr",
    "outputId": "c02bfb61-6750-4a9a-f750-672b0747da7c"
   },
   "outputs": [],
   "source": [
    "device = torch.device('cuda' if torch.cuda.is_available() else 'cpu')\n",
    "device"
   ]
  },
  {
   "cell_type": "markdown",
   "metadata": {
    "id": "nOHqu52v5hPJ"
   },
   "source": [
    "# Проблема затухания градиента"
   ]
  },
  {
   "cell_type": "markdown",
   "metadata": {
    "id": "VfVjxgNcMGNe"
   },
   "source": [
    "Рассмотрим проблему затухания градиента во время обучений неройнных сетей"
   ]
  },
  {
   "cell_type": "markdown",
   "metadata": {
    "id": "b8dzIsCuMRaK"
   },
   "source": [
    "**Залача 1:** Определите модель со следующей структурой:\n",
    "1. Вход и выход заданы - линейными слоями (nn.Linear)\n",
    "2. Скрытые слои - в виде линейных слоев в nn.ModuleList"
   ]
  },
  {
   "cell_type": "code",
   "execution_count": null,
   "metadata": {
    "id": "HH04IJ7ydslR"
   },
   "outputs": [],
   "source": [
    "# Класс модели:\n",
    "class DeepMLP(nn.Module):\n",
    "    def __init__(self, input_size, hidden_size, output_size, n_hidden):\n",
    "        super(DeepMLP, self).__init__()\n",
    "        self.input_layer = nn.Linear(input_size, hidden_size)\n",
    "        self.hidden_layers = nn.ModuleList([nn.Linear(hidden_size, hidden_size) for _ in range(n_hidden)])\n",
    "        self.output_layer = nn.Linear(hidden_size, output_size)\n",
    "        \n",
    "    def forward(self, x):\n",
    "        x = x.view(-1, 28 * 28)\n",
    "        x = self.input_layer(x)\n",
    "        for hidden_layer in self.hidden_layers:\n",
    "            x = F.sigmoid(hidden_layer(x))\n",
    "        x = self.output_layer(x)\n",
    "        return x\n"
   ]
  },
  {
   "cell_type": "markdown",
   "metadata": {
    "id": "iKUqF0uLBHvF"
   },
   "source": [
    "**Вопрос:** Сколько параметров (весов) будет иметь эта модель, если инициализировать ее следующие аргументами:\n",
    "\n",
    "input_size=3, \n",
    "hidden_size=6,\n",
    "output_size=7,\n",
    "n_hidden=1\n",
    "\n",
    "**Пример ответа:** `123`"
   ]
  },
  {
   "cell_type": "code",
   "execution_count": null,
   "metadata": {
    "id": "CTzoKU0RAq8s"
   },
   "outputs": [],
   "source": [
    "model = ### YOUR CODE HERE\n",
    "answer = ### YOUR CODE HERE\n",
    "answer   ### здесь должен быть выведен ответ"
   ]
  },
  {
   "cell_type": "markdown",
   "metadata": {
    "id": "ayAO6YzmM9iM"
   },
   "source": [
    "**Задача 2:** Вычислите среднее по градиенту в первом скрытом (!!!) слое.\n",
    "\n",
    "**Вопрос:** Каково это значение?\n",
    "\n",
    "**Пример ответа:** `1.2`"
   ]
  },
  {
   "cell_type": "code",
   "execution_count": null,
   "metadata": {
    "colab": {
     "base_uri": "https://localhost:8080/"
    },
    "id": "-p5sW_s7Fu7Q",
    "outputId": "88fc8fb5-6c91-43e6-9ff5-25de4575ce03"
   },
   "outputs": [],
   "source": [
    "torch.manual_seed(42)\n",
    "\n",
    "model = DeepMLP(28 * 28, 6, 7, 1)\n",
    "\n",
    "criterion = torch.nn.CrossEntropyLoss()\n",
    "optimizer = torch.optim.Adam(model.parameters(), lr=0.01)\n",
    "optimizer.zero_grad()\n",
    "out = model(torch.rand((1, 28 * 28)))\n",
    "loss = criterion(out, torch.rand((1, )).long())\n",
    "\n",
    "loss.backward()"
   ]
  },
  {
   "cell_type": "code",
   "execution_count": null,
   "metadata": {
    "id": "YsbyD3LwF0-b"
   },
   "outputs": [],
   "source": [
    "answer = ### YOUR CODE HERE\n",
    "answer   ### здесь должен быть выведен ответ"
   ]
  },
  {
   "cell_type": "markdown",
   "metadata": {
    "id": "F83YYq7A9mA-"
   },
   "source": [
    "Теперь попробуйте обучить небольшую модель состоящую всего-лишь из трех скрытых слоев."
   ]
  },
  {
   "cell_type": "markdown",
   "metadata": {
    "id": "N6bIiDEzNUux"
   },
   "source": [
    "**Задача 3:** Создайте объект класса модели DeepMLP"
   ]
  },
  {
   "cell_type": "code",
   "execution_count": null,
   "metadata": {
    "id": "MZzRzKmOHKBf"
   },
   "outputs": [],
   "source": [
    "torch.manual_seed(42)\n",
    "\n",
    "# Инициализация модели, лосс функции и оптимайзера:\n",
    "input_size = 28 * 28 # MNIST image size\n",
    "hidden_size = 32\n",
    "output_size = 10\n",
    "n_hidden=3          # небольшая модель всего из трех скрытых слоев\n",
    "model = DeepMLP(input_size, hidden_size, output_size, n_hidden).to(device)"
   ]
  },
  {
   "cell_type": "markdown",
   "metadata": {
    "id": "1U7bUJBrRf-D"
   },
   "source": [
    "**Вопрос:** Какова сумма всех выходов модели для случайного входного тензора test_data?\n",
    "\n",
    "**Пример ответа:** `1.234`"
   ]
  },
  {
   "cell_type": "code",
   "execution_count": null,
   "metadata": {
    "id": "eGW9dV-aNxF4"
   },
   "outputs": [],
   "source": [
    "test_data = torch.rand((1, 28*28)).to(device)\n",
    "\n",
    "answer = # YOUR CODE HERE\n",
    "answer   ### здесь должен быть выведен ответ"
   ]
  },
  {
   "cell_type": "markdown",
   "metadata": {},
   "source": [
    "Теперь попробуем имплементировать цикл обучения и затем обучить модель на датасете MNIST. Но для начала давайте скачаем и подготовим этот датасет для обучения:"
   ]
  },
  {
   "cell_type": "code",
   "execution_count": null,
   "metadata": {
    "colab": {
     "base_uri": "https://localhost:8080/",
     "height": 431,
     "referenced_widgets": [
      "3f8e52d7ada947a9a86cccc688a03c27",
      "5dd8f6c8b14b4ad09fd86a15ffa456ea",
      "1b437b0c915549b19225dc3459d5eab0",
      "158a2671a1f846e3808fdebfbc85a0a8",
      "2f35198891fb4c41a7bfeb8bfaef94df",
      "4b410b1dc0854543b2247282a5153fac",
      "ccce112b1b324e28b189d9ee2d5e47ab",
      "934ccc3dc11543cdb17c81c5a98e5921",
      "472f3fcd1b4544bf95b3c8422360cd9a",
      "b2dce7051bfe48a49e2007c480fd803f",
      "6bdff8a3a3434736bef90c73cf64be19",
      "519455372df4443f841defbe6c20d72f",
      "0ffcc374bbfe4d5a89d883d65336e919",
      "a2f280df2edb4a74acf97234c2c37810",
      "3ad89c2289e446d696b926f618db17ae",
      "0d22f9c1fa3e46b29ea5421aaad84738",
      "f63029edca9f4fc88f7bb98827916759",
      "aaa8d79a5b424609a06a8d0afcb8b48f",
      "0d2f43eb91b943f78a17bae9c6bbb182",
      "577bd1a594144e42864d09296cc8ed31",
      "ee30d07d5ea44e74824c36252e650cb1",
      "3e8287f8b1f64d7e86ece632bf1a1127",
      "f54257e8690144c2bf64a7ac4d5852f6",
      "3e6d5e6dde0b4715b214009c448038d2",
      "5e91d981cc08421e802c385b2a004ce1",
      "b92de090e34a48d99e0a9e769aeb6a6d",
      "5338a92c8e054f74a2c51c8c84f23fbc",
      "b941b441ad73433ebd91b3b5e32918a7",
      "9af3c7842023410b95b51194e3ce5785",
      "7d29978830a8450cbb52c18c5b890f6f",
      "f82d82f7b4ab4ee4b6dce82e269e20d9",
      "c173a6ceaf2f45ccb301000675bfcd79",
      "1314e991cc824859baabcff65fce46ce",
      "f9fb6123f6784de7bde185d36e6eac28",
      "0ab9317bc3654c06b938ae2cd29035d7",
      "7a433685d79f4859a23a1a012ec9640b",
      "8cc2078175b44094918798344824c275",
      "29331652749544e9a303e626f10b4bce",
      "19bb4c0ea8cc46b1a7d4ead2ab7a76c6",
      "d1be317d23574ba9955f7b78200c8c10",
      "773a7c98dffc44b3bc755870c19fea6d",
      "40207981f4a942e3a66c81983c9725ff",
      "3cf590dae1ba464b8bf02657b7b72c9c",
      "a5185e691c684042bf925c92284db9ad"
     ]
    },
    "id": "LHxa0Ooj8YGW",
    "outputId": "7c20aa41-2f55-44b3-ca14-365fb49a493e"
   },
   "outputs": [],
   "source": [
    "# Загрузка и подготовка датасета MNIST:\n",
    "transform = transforms.Compose([transforms.ToTensor(), transforms.Normalize((0.5,), (0.5,))])\n",
    "trainset = torchvision.datasets.MNIST(root='./data', train=True, download=True, transform=transform)\n",
    "trainloader = torch.utils.data.DataLoader(trainset, batch_size=64, shuffle=True, num_workers=2)"
   ]
  },
  {
   "cell_type": "code",
   "execution_count": null,
   "metadata": {
    "id": "9jsdIQPOCJLU"
   },
   "outputs": [],
   "source": [
    "# Опишем цикл обучения:\n",
    "def train(model, trainloader, criterion, optimizer):\n",
    "  torch.manual_seed(42)\n",
    "\n",
    "  model.train()\n",
    "\n",
    "  fc_gradients = []\n",
    "\n",
    "  for step, data in tqdm(enumerate(trainloader), total=len(trainloader)):\n",
    "      inputs, labels = data\n",
    "      inputs, labels = inputs.to(device), labels.to(device)\n",
    "\n",
    "      optimizer.zero_grad()\n",
    "      outputs = model(inputs)\n",
    "      loss = criterion(outputs, labels)\n",
    "      \n",
    "      loss.backward()\n",
    "      optimizer.step()\n",
    "\n",
    "      if step % 10 == 0:\n",
    "        print(f'Step: {step}, Loss: {loss}')\n",
    "\n",
    "      fc_gradients.append(...)  # <------ код из решения задачи 2\n",
    "\n",
    "  return fc_gradients"
   ]
  },
  {
   "cell_type": "code",
   "execution_count": null,
   "metadata": {
    "colab": {
     "base_uri": "https://localhost:8080/"
    },
    "id": "_RN00uEEnHlo",
    "outputId": "aeba63b4-b000-43cc-f365-96c4472a9f0b"
   },
   "outputs": [],
   "source": [
    "# Теперь обучим модель:\n",
    "criterion = torch.nn.CrossEntropyLoss()\n",
    "optimizer = torch.optim.Adam(model.parameters(), lr=0.01)\n",
    "\n",
    "_ = train(model, trainloader, criterion, optimizer)"
   ]
  },
  {
   "cell_type": "markdown",
   "metadata": {
    "id": "M-5yznsF-HFY"
   },
   "source": [
    "Как вы можете видеть, модель сходится, хотя и не очень хорошо. Вы должны получить лосс в диапазоне 0.5-0.9. Низкая производительность модели обусловлена тем, что трех скрытых слоев недостаточно чтобы хорошо обучить эту модель классифицировать MNIST датасет.\n",
    "\n",
    "Теперь попробуйте увеличить количество скрытых слоев до 10 и обучить модель еще раз."
   ]
  },
  {
   "cell_type": "markdown",
   "metadata": {
    "id": "MNoNuy9uNgTa"
   },
   "source": [
    "**Задача 4:** Увеличьте число скрытых слоев до 10."
   ]
  },
  {
   "cell_type": "code",
   "execution_count": null,
   "metadata": {
    "id": "U_TvJ0QYSByU"
   },
   "outputs": [],
   "source": [
    "torch.manual_seed(42)\n",
    "\n",
    "# Инициализация модели, лосс функции и оптимайзера:\n",
    "input_size = 28 * 28 # MNIST image size\n",
    "hidden_size = 32\n",
    "output_size = 10\n",
    "n_hidden = # YOUR ANSWER HERE\n",
    "model = DeepMLP(input_size, hidden_size, output_size, n_hidden).to(device)"
   ]
  },
  {
   "cell_type": "markdown",
   "metadata": {
    "id": "_0piWj0tSWLA"
   },
   "source": [
    "**Вопрос:** Посчитайте и выведите количество скрытых слоев модели.\n",
    "\n",
    "**Пример ответа:** `3`"
   ]
  },
  {
   "cell_type": "code",
   "execution_count": null,
   "metadata": {
    "id": "FvC2WyBESSN3"
   },
   "outputs": [],
   "source": [
    "answer = # YOUR CODE HERE\n",
    "answer   ### здесь должен быть выведен ответ"
   ]
  },
  {
   "cell_type": "code",
   "execution_count": null,
   "metadata": {
    "colab": {
     "base_uri": "https://localhost:8080/"
    },
    "id": "1SRP2f3yCLAK",
    "outputId": "b9ad19ad-b3c0-4760-a37c-c0f169d60a09"
   },
   "outputs": [],
   "source": [
    "# Обучите модель еще раз:\n",
    "criterion = torch.nn.CrossEntropyLoss()\n",
    "optimizer = torch.optim.Adam(model.parameters(), lr=0.01)\n",
    "\n",
    "fc_gradients = train(model, trainloader, criterion, optimizer)"
   ]
  },
  {
   "cell_type": "markdown",
   "metadata": {
    "id": "affdDjGwpkhE"
   },
   "source": [
    "Как вы можете видеть, лосс прекратил уменьшаться. Почему так произошло? Давайте визуализируем градиент для первого скрытого слоя (который записан в переменную fc_gradients; остальные скрытые слои будут иметь похожий градиена, так что опустим их)."
   ]
  },
  {
   "cell_type": "code",
   "execution_count": null,
   "metadata": {
    "colab": {
     "base_uri": "https://localhost:8080/",
     "height": 313
    },
    "id": "HAWCQvPcnVjf",
    "outputId": "6bbf4926-46ad-4a5b-dafe-73b0c83ead03"
   },
   "outputs": [],
   "source": [
    "# Визуализируйте градиент:\n",
    "plt.plot(fc_gradients)\n",
    "plt.legend()\n",
    "plt.title(\"Gradients of Linear Layers\")\n",
    "plt.xlabel(\"Training Step\")\n",
    "plt.ylabel(\"Gradient Value\")\n",
    "plt.show()"
   ]
  },
  {
   "cell_type": "markdown",
   "metadata": {
    "id": "KCIGhCZGpi36"
   },
   "source": [
    "Как видите, после примерно 300 итерации градиент начал *затухать*, что означает, что веса скрытых слоев перестали обучаться. По этой причине лосс и перестал уменьшаться, т.к. градиент стал слишком мал чтобы влиять на веса слоев.\n",
    "\n",
    "Глубокие модели (с большим числом скрытых слоев) подвержены проблеме затухания градиента, что приводит к тому, что такие модели не могут обучаться эффективно. \n",
    "\n",
    "Одна из причин этого (в этом примере) это использования sigmoid в качестве функции активации. Давайте изменим функцию активации на ReLU и переобучим модель еще раз."
   ]
  },
  {
   "cell_type": "markdown",
   "metadata": {
    "id": "5zfV3UDUNpBb"
   },
   "source": [
    "**Задача 5:** Замените sigmoid на ReLU"
   ]
  },
  {
   "cell_type": "code",
   "execution_count": null,
   "metadata": {
    "id": "Ew7ay6l5Gmnw"
   },
   "outputs": [],
   "source": [
    "# Замените sigmoid на ReLU:\n",
    "class DeepMLP_ReLU(nn.Module):\n",
    "  def __init__(self, input_size, hidden_size, output_size, n_hidden):\n",
    "    '''\n",
    "    YOU CODE HERE\n",
    "    '''\n",
    "  def forward(self, x):\n",
    "    '''\n",
    "    YOU CODE HERE\n",
    "    '''\n"
   ]
  },
  {
   "cell_type": "markdown",
   "metadata": {
    "id": "EtfHKOkRVvBx"
   },
   "source": [
    "**Вопрос:** Посчитайте и выведите сумму всех выходов модели для рандмного входного тензора test_input\n",
    "\n",
    "**Пример ответа:** `0.234`"
   ]
  },
  {
   "cell_type": "code",
   "execution_count": null,
   "metadata": {
    "colab": {
     "base_uri": "https://localhost:8080/",
     "height": 204
    },
    "id": "jdGs2f3rTEh7",
    "outputId": "5377fc68-b250-4050-9df1-9a4b5c93f496"
   },
   "outputs": [],
   "source": [
    "# Инициализируйте модель с ReLU:\n",
    "torch.manual_seed(42)\n",
    "\n",
    "input_size = 28 * 28\n",
    "hidden_size = 32\n",
    "output_size = 10\n",
    "n_hidden=10\n",
    "model_relu = DeepMLP_ReLU(input_size, hidden_size, output_size, n_hidden).to(device)"
   ]
  },
  {
   "cell_type": "code",
   "execution_count": null,
   "metadata": {
    "id": "P7oUfFVrWaSS"
   },
   "outputs": [],
   "source": [
    "torch.manual_seed(42)\n",
    "test_input = torch.rand(1, 28*28).to(device)\n",
    "answer = ### YOUR CODE HERE\n",
    "answer   ### здесь должен быть выведен ответ"
   ]
  },
  {
   "cell_type": "code",
   "execution_count": null,
   "metadata": {
    "id": "IbGt_9VlUN8F"
   },
   "outputs": [],
   "source": [
    "# Обучите модель с ReLU:\n",
    "criterion = torch.nn.CrossEntropyLoss()\n",
    "optimizer = torch.optim.Adam(model_relu.parameters(), lr=0.01)\n",
    "\n",
    "fc_gradients = train(model_relu, trainloader, criterion, optimizer)"
   ]
  },
  {
   "cell_type": "code",
   "execution_count": null,
   "metadata": {
    "id": "hPrlNdguH4Xg"
   },
   "outputs": [],
   "source": [
    "# Визуализируйте градинте:\n",
    "plt.plot(fc_gradients)\n",
    "plt.legend()\n",
    "plt.title(\"Gradients of Linear Layers\")\n",
    "plt.xlabel(\"Training Step\")\n",
    "plt.ylabel(\"Gradient Value\")\n",
    "plt.show()"
   ]
  },
  {
   "cell_type": "markdown",
   "metadata": {
    "id": "KBllIvkvKXn3"
   },
   "source": [
    "Вы должны получить лосс в диапазоне 1.3-1.6. Проблема затухания градиента должна уменьшится, но не решиться полностью. Обучение глубоких нейронных сетей является нетривиальной задачей!"
   ]
  },
  {
   "cell_type": "markdown",
   "metadata": {
    "id": "o0joS4fPUQ2A"
   },
   "source": [
    "# Проблема взрыва градиента\n",
    "\n",
    "Это проблема противоположна предыдущей. Вместо стремления градиента к 0, и потери способности изменять веса слоев (а значит и обучаться), градиент может \"взорваться\" (его значения стремятся к большим числам), что приводит к очень большим и резким изменениям весов модели, не позволяя модели сходиться."
   ]
  },
  {
   "cell_type": "markdown",
   "metadata": {
    "id": "vgxvo_7fOh8a"
   },
   "source": [
    "**Задача 6:** Инициализируйте модель еще раз со следующими входными параметрами."
   ]
  },
  {
   "cell_type": "code",
   "execution_count": null,
   "metadata": {
    "id": "0IXQ7wEOUqV_"
   },
   "outputs": [],
   "source": [
    "torch.manual_seed(42)\n",
    "\n",
    "# Инициализация модели, лосс функции и оптимайзера:\n",
    "input_size = 28 * 28 # MNIST image size\n",
    "hidden_size = 512\n",
    "output_size = 10\n",
    "n_hidden=20\n",
    "model = DeepMLP(input_size, hidden_size, output_size, n_hidden).to(device)"
   ]
  },
  {
   "cell_type": "markdown",
   "metadata": {
    "id": "lmMUekvTg3Yb"
   },
   "source": [
    "**Вопрос:** Посчитайте и выведите сумму всех выходов модели для рандмного входного тензора test_input (да да, еще раз)\n",
    "\n",
    "**Пример ответа:** `0.234`"
   ]
  },
  {
   "cell_type": "code",
   "execution_count": null,
   "metadata": {
    "id": "BwDNx4V5hS0s"
   },
   "outputs": [],
   "source": [
    "torch.manual_seed(42)\n",
    "test_input = torch.rand(1, 28*28).to(device)\n",
    "answer = # YOUR CODE HERE\n",
    "answer   ### здесь должен быть выведен ответ"
   ]
  },
  {
   "cell_type": "code",
   "execution_count": null,
   "metadata": {
    "colab": {
     "base_uri": "https://localhost:8080/"
    },
    "id": "j2LkOkphUsQ7",
    "outputId": "cc824eb3-64a7-4056-b045-3cdff798ed6b"
   },
   "outputs": [],
   "source": [
    "# Обучите модель еще раз:\n",
    "torch.manual_seed(42)\n",
    "\n",
    "criterion = torch.nn.CrossEntropyLoss()\n",
    "optimizer = torch.optim.SGD(model.parameters(), lr=0.001)\n",
    "\n",
    "fc_gradients = train(model, trainloader, criterion, optimizer)"
   ]
  },
  {
   "cell_type": "code",
   "execution_count": null,
   "metadata": {
    "colab": {
     "base_uri": "https://localhost:8080/",
     "height": 313
    },
    "id": "lgNqcWdaU9wf",
    "outputId": "c4013a4a-6019-4df6-f701-85f17639531e"
   },
   "outputs": [],
   "source": [
    "# Визуализируйте градиент:\n",
    "plt.plot(fc_gradients)\n",
    "plt.legend()\n",
    "plt.title(\"Gradients of Linear Layers\")\n",
    "plt.xlabel(\"Training Step\")\n",
    "plt.ylabel(\"Gradient Value\")\n",
    "plt.show()"
   ]
  },
  {
   "cell_type": "markdown",
   "metadata": {
    "id": "_zZILiapP1GL"
   },
   "source": [
    "Как видите, магнитуда градиента стала слишком большой, что приводит к тому, что модель не может сойтись (достичь минимума)."
   ]
  },
  {
   "cell_type": "markdown",
   "metadata": {
    "id": "k2KBgvZ3scLB"
   },
   "source": [
    "# ResNet"
   ]
  },
  {
   "cell_type": "markdown",
   "metadata": {
    "id": "KBvmr6myseBg"
   },
   "source": [
    "Теперь давайте попробуем реализовать модель ResNet. Ее авторы нашли способ как бороться с проблемой затухания градиента в глубоких сетях используя так называемые shortcut (или residual) связи между слоями."
   ]
  },
  {
   "cell_type": "markdown",
   "metadata": {
    "id": "Mqm6pG4LOyCL"
   },
   "source": [
    "**Задача 7:** Определите Residual Block"
   ]
  },
  {
   "cell_type": "code",
   "execution_count": null,
   "metadata": {
    "id": "ybUFV_Y_4XY-"
   },
   "outputs": [],
   "source": [
    "class ResidualBlock(nn.Module):\n",
    "    def __init__(self, in_channels, out_channels, stride=1):\n",
    "        super(ResidualBlock, self).__init__()\n",
    "        self.conv1 = nn.Conv2d(in_channels, out_channels, kernel_size=3, stride=stride, padding=1)\n",
    "        self.bn1 = nn.BatchNorm2d(out_channels)\n",
    "        self.conv2 = nn.Conv2d(out_channels, out_channels, kernel_size=3, stride=1, padding=1)\n",
    "        self.bn2 = nn.BatchNorm2d(out_channels)\n",
    "        self.shortcut = nn.Sequential()\n",
    "        if stride != 1 or in_channels != out_channels:\n",
    "            self.shortcut = nn.Sequential(nn.Conv2d(in_channels, out_channels, kernel_size=1, stride=stride), nn.BatchNorm2d(out_channels))\n",
    "\n",
    "    def forward(self, x):\n",
    "        out = self.conv1(x)\n",
    "        out = self.bn1(out)\n",
    "        out = F.relu(out)\n",
    "        out = self.conv2(out)\n",
    "        out = self.bn2(out)\n",
    "        out += self.shortcut(x)\n",
    "        out = F.relu(out)\n",
    "        return out"
   ]
  },
  {
   "cell_type": "markdown",
   "metadata": {
    "id": "tB89S5lSkWQ6"
   },
   "source": [
    "**Вопрос:** Посчитайте и выведите сумму выходов ResidualBlock(10,10) для рандомного входного тензора test_input.\n",
    "\n",
    "**Пример ответа:** `1.234`"
   ]
  },
  {
   "cell_type": "code",
   "execution_count": null,
   "metadata": {
    "id": "cQjcjGh8k0mD"
   },
   "outputs": [],
   "source": [
    "torch.manual_seed(42)\n",
    "test_input = torch.rand((1, 10, 3, 28*28))\n",
    "res_block = # YOUR CODE HERE\n",
    "answer = res_block(test_input).sum()\n",
    "answer   ### здесь должен быть выведен ответ"
   ]
  },
  {
   "cell_type": "markdown",
   "metadata": {
    "id": "ALoCCoU-PEba"
   },
   "source": [
    "**Задача 8:** Теперь определите модель ResNet, состоящую из нескольких ResidualBlock"
   ]
  },
  {
   "cell_type": "code",
   "execution_count": null,
   "metadata": {
    "id": "84HZmmlpPC8V"
   },
   "outputs": [],
   "source": [
    "class ResNet(nn.Module):\n",
    "    def __init__(self, num_classes=10):\n",
    "        super(ResNet, self).__init__()\n",
    "        self.conv1 = nn.Conv2d(1, 64, kernel_size=3, stride=1, padding=1)\n",
    "        self.layer1 = self._make_layer(64, 64, 2)\n",
    "        self.layer2 = self._make_layer(64, 128, 2)\n",
    "        self.layer3 = self._make_layer(128, 256, 2)\n",
    "        self.fc = nn.Linear(2304, num_classes)\n",
    "\n",
    "    def _make_layer(self, in_channels, out_channels, num_blocks, stride=1):\n",
    "        layers = []\n",
    "        for i in range(num_blocks):\n",
    "            if i == 0:\n",
    "                layers.append(ResidualBlock(in_channels, out_channels, stride))\n",
    "            else:\n",
    "                layers.append(ResidualBlock(out_channels, out_channels, stride=1))\n",
    "        return nn.Sequential(*layers)\n",
    "\n",
    "    def forward(self, x):\n",
    "        out = F.relu(self.conv1(x))\n",
    "        out = self.layer1(out)\n",
    "        out = self.layer2(out)\n",
    "        out = self.layer3(out)\n",
    "        out = F.avg_pool2d(out, 8)\n",
    "        out = out.view(out.size(0), -1)\n",
    "        out = self.fc(out)\n",
    "        return out"
   ]
  },
  {
   "cell_type": "markdown",
   "metadata": {
    "id": "62V0OrcOomjM"
   },
   "source": [
    "**Вопрос:** Посчитайте и выведите количество параметров (весов) этой ResNet модели\n",
    "\n",
    "**Пример ответа:** `43242`"
   ]
  },
  {
   "cell_type": "code",
   "execution_count": null,
   "metadata": {
    "id": "gFw6BJY3pFTt"
   },
   "outputs": [],
   "source": [
    "model = ResNet()\n",
    "answer = # YOUR CODE HERE\n",
    "answer   ### здесь должен быть выведен ответ"
   ]
  },
  {
   "cell_type": "code",
   "execution_count": null,
   "metadata": {
    "id": "dscNlp4lyzqW"
   },
   "outputs": [],
   "source": [
    "# Инициализируем объект класса модели ResNet, а также лосс функцию и оптимайзер:\n",
    "torch.manual_seed(42)\n",
    "\n",
    "model = ResNet().to(device)\n",
    "criterion = torch.nn.CrossEntropyLoss()\n",
    "optimizer = torch.optim.Adam(model.parameters(), lr=0.01)"
   ]
  },
  {
   "cell_type": "code",
   "execution_count": null,
   "metadata": {
    "colab": {
     "base_uri": "https://localhost:8080/"
    },
    "id": "NHkoOfudy5T2",
    "outputId": "ea6f5d4e-c98a-45f8-dd37-8be368617f45"
   },
   "outputs": [],
   "source": [
    "# Теперь обучите эту модель:\n",
    "torch.manual_seed(42)\n",
    "\n",
    "model.train()\n",
    "\n",
    "fc_gradients = []\n",
    "\n",
    "for step, data in tqdm(enumerate(trainloader), total=len(trainloader)):\n",
    "    inputs, labels = data\n",
    "    inputs, labels = inputs.to(device), labels.to(device)\n",
    "\n",
    "    optimizer.zero_grad()\n",
    "    outputs = model(inputs)\n",
    "    loss = criterion(outputs, labels)\n",
    "    \n",
    "    loss.backward()\n",
    "    optimizer.step()\n",
    "\n",
    "    if step % 10 == 0:\n",
    "      print(f'Step: {step}, Loss: {loss}')\n",
    "\n",
    "    fc_gradients.append(model.fc.weight.grad.mean().item())"
   ]
  },
  {
   "cell_type": "markdown",
   "metadata": {
    "id": "kqfkym2HHbZm"
   },
   "source": [
    "Как можете видеть, лосс продолжает уменьшаться. Теперь попробуйте визиулизировать градиент накопленный в переменной fc_gradients"
   ]
  },
  {
   "cell_type": "code",
   "execution_count": null,
   "metadata": {
    "colab": {
     "base_uri": "https://localhost:8080/",
     "height": 313
    },
    "id": "8zKQtB_my8te",
    "outputId": "a72bbcaf-f2e3-40f3-b6d6-e420872edf0a"
   },
   "outputs": [],
   "source": [
    "# Визуализируйте градиент:\n",
    "plt.plot(fc_gradients)\n",
    "plt.legend()\n",
    "plt.title(\"Gradients of Linear Layers\")\n",
    "plt.xlabel(\"Training Step\")\n",
    "plt.ylabel(\"Gradient Value\")\n",
    "plt.show()"
   ]
  },
  {
   "cell_type": "markdown",
   "metadata": {
    "id": "hfeX1uejHqU0"
   },
   "source": [
    "Теперь градиент кажется достаточно стабильным, и это позволяет ResNet модели обучаться лучше предыдущей модели, которая была подвержена проблеме затухания градента. Таким способом ResNet стала SOTA моделью в 2015 году и выиграла ImageNet competition.\n",
    "\n",
    "Наконец, давайте сохраним параметры (веса) обученной модели чтобы переиспользовать их позже:"
   ]
  },
  {
   "cell_type": "code",
   "execution_count": null,
   "metadata": {
    "id": "RMF5j3h6b_No"
   },
   "outputs": [],
   "source": [
    "checkpoint_path = './mnist_checkpoint.pth'\n",
    "torch.save(model.state_dict(), checkpoint_path)"
   ]
  },
  {
   "cell_type": "markdown",
   "metadata": {
    "id": "pM6mnPV7bKSn"
   },
   "source": [
    "# Transfer Learning\n",
    "\n",
    "Перед тем как мы перейдем к технике обучения называемой Transfer Learning, давайте сперва протестируем нашу модель на тестовой подвыборке датасета MNIST. Чтобы сделать это, вам необходимо скачать тестовую подвыборку схожим образом, как вы уже скачали подвыборку для обучения с тем отличием, что нужно изменить параметр `train=False`:"
   ]
  },
  {
   "cell_type": "code",
   "execution_count": null,
   "metadata": {
    "id": "KKfwHdNdngRJ"
   },
   "outputs": [],
   "source": [
    "# Загрузите тестовую подвыборку датасета MNIST:\n",
    "transform = transforms.Compose([transforms.ToTensor(), transforms.Normalize((0.5,), (0.5,))])\n",
    "testset = torchvision.datasets.MNIST(root='./data', train=False, download=True, transform=transform)\n",
    "testloader = torch.utils.data.DataLoader(testset, batch_size=64, shuffle=False, num_workers=2)"
   ]
  },
  {
   "cell_type": "markdown",
   "metadata": {
    "id": "vSndKE5vrgGa"
   },
   "source": [
    "Теперь нам нужно имплементировать функцию для тестирования модели, в которой мы будем считать точность (accuracy) нашей модели (т.е. процент правильных предсказаний):"
   ]
  },
  {
   "cell_type": "code",
   "execution_count": null,
   "metadata": {
    "id": "A8uyTWErk_54"
   },
   "outputs": [],
   "source": [
    "def test(model, dataloader):\n",
    "  model.eval()\n",
    "\n",
    "  with torch.no_grad():\n",
    "    correct = 0\n",
    "\n",
    "    for step, data in tqdm(enumerate(dataloader), total=len(dataloader)):\n",
    "        inputs, labels = data\n",
    "        inputs, labels = inputs.to(device), labels.to(device)\n",
    "\n",
    "        outputs = model(inputs)\n",
    "        correct += (outputs.argmax(1) == labels).type(torch.float).sum().item()\n",
    "        \n",
    "    accuracy = correct/len(dataloader.dataset)\n",
    "\n",
    "    return accuracy"
   ]
  },
  {
   "cell_type": "markdown",
   "metadata": {
    "id": "JpDdQabCrva1"
   },
   "source": [
    "Теперь загрузите ранее сохраненные параметры (веса) обученной ResNet модели:"
   ]
  },
  {
   "cell_type": "markdown",
   "metadata": {
    "id": "COdCH1EgPQPJ"
   },
   "source": [
    "**Задача 9:** Посчитайте точность модели на тесте."
   ]
  },
  {
   "cell_type": "code",
   "execution_count": null,
   "metadata": {
    "id": "Pvkd9XBBqsoT"
   },
   "outputs": [],
   "source": [
    "model = ResNet()\n",
    "model.load_state_dict(torch.load(checkpoint_path))\n",
    "model = model.to(device)"
   ]
  },
  {
   "cell_type": "markdown",
   "metadata": {
    "id": "CoRnP6zMqmb-"
   },
   "source": [
    "**Вопрос:** Посчитайте и выведите точность модели на тестовой выборке MNIST.\n",
    "\n",
    "**Пример ответа:** `22.45`"
   ]
  },
  {
   "cell_type": "code",
   "execution_count": null,
   "metadata": {
    "id": "rpSnjXDDq__p"
   },
   "outputs": [],
   "source": [
    "accuracy = # YOUR CODE HERE\n",
    "print(f\"\\nMNIST test accuracy: {100*accuracy}%\")  "
   ]
  },
  {
   "cell_type": "markdown",
   "metadata": {
    "id": "uUgp16ay2T8A"
   },
   "source": [
    "Вы должны получить точность примерно 96% или выше.\n",
    "\n",
    "Теперь давайте попробуем загрузить другой датасет - CIFAR10, который состоит из 10 классов, но содержит изображения не рукописаных цифр, а объектов (horses, dogs, cars, и др.). Изображения имеют размер 32x32 и три цветовых канала (RGB). Поэтому нам также нужно изменить трансформации (transforms), чтобы изображения CIFAR10 соответствовали  изображениям MNIST (т.е. 28x28 в формате grayscale):"
   ]
  },
  {
   "cell_type": "code",
   "execution_count": null,
   "metadata": {
    "colab": {
     "base_uri": "https://localhost:8080/"
    },
    "id": "RbYfaUw6HoAX",
    "outputId": "f0a39533-c1ca-4396-90dc-0935574e6084"
   },
   "outputs": [],
   "source": [
    "# Трансформации для датасета CIFAR10:\n",
    "transform_cifar10 = transforms.Compose([\n",
    "    transforms.Grayscale(num_output_channels=1),\n",
    "    transforms.Resize((28,28)), \n",
    "    transforms.ToTensor(),\n",
    "    transforms.Normalize((0.5,), (0.5,))])\n",
    "\n",
    "# Выборка для обучения:\n",
    "trainset_cifar10 = torchvision.datasets.CIFAR10(root='./data_cifar10', train=True, download=True, transform=transform_cifar10)\n",
    "trainloader_cifar10 = torch.utils.data.DataLoader(trainset_cifar10, batch_size=64, shuffle=True, num_workers=2)\n",
    "\n",
    "# Выборка для тестирования:\n",
    "testset_cifar10 = torchvision.datasets.CIFAR10(root='./data_cifar10', train=False, download=True, transform=transform_cifar10)\n",
    "testloader_cifar10 = torch.utils.data.DataLoader(testset_cifar10, batch_size=64, shuffle=False, num_workers=2)"
   ]
  },
  {
   "cell_type": "markdown",
   "metadata": {
    "id": "4-3JPLH63_TX"
   },
   "source": [
    "Теперь протестируйте ранее обученную ResNet модель на тестовой выборке датасета CIFAR10 (пока переобучать модель не нужно!):"
   ]
  },
  {
   "cell_type": "markdown",
   "metadata": {
    "id": "JJriMfvxP6IF"
   },
   "source": [
    "**Задача 10:** Протестируйте модель на тестовой выборке CIFAR10"
   ]
  },
  {
   "cell_type": "markdown",
   "metadata": {
    "id": "4lSUdrRMr0b7"
   },
   "source": [
    "**Вопрос:** Посчитайте и выведите точность модели на тесте\n",
    "\n",
    "**Пример ответа:** `22.45`"
   ]
  },
  {
   "cell_type": "code",
   "execution_count": null,
   "metadata": {
    "id": "BvreSSyxrNXJ"
   },
   "outputs": [],
   "source": [
    "accuracy = # YOUR CODE HERE\n",
    "print(f\"\\nTest accuracy: {100*accuracy}%\")  "
   ]
  },
  {
   "cell_type": "markdown",
   "metadata": {
    "id": "g15wnspD4qmN"
   },
   "source": [
    "Как видите, точность на CIFAR10 не очень большая (около 10%). И это не удивительно, ведь мы обучали нашу ResNet модель на другом датасете (MNIST).\n",
    "\n",
    "Теперь давайте заморозим все слои за исключением последнего (т.е. слоя классификации):"
   ]
  },
  {
   "cell_type": "markdown",
   "metadata": {
    "id": "G5PVNgLRP9R6"
   },
   "source": [
    "**Задача 11:** Заморозьте слои модели кроме последнего"
   ]
  },
  {
   "cell_type": "code",
   "execution_count": null,
   "metadata": {
    "id": "ytg1POiId9eM"
   },
   "outputs": [],
   "source": [
    "for param in model.parameters():\n",
    "    param.requires_grad = False              # отключаем градиент (т.е. \"замораживаем\" слои)\n",
    "    \n",
    "mnist_fc = model.fc                          # Сохраняем в переменную слой классификации MNIST\n",
    "in_features = model.fc.in_features         \n",
    "model.fc = torch.nn.Linear(in_features, 10)  # Создаем новый слой классификации для CIFAR10\n",
    "model.fc = model.fc.cuda()"
   ]
  },
  {
   "cell_type": "markdown",
   "metadata": {
    "id": "LVT85FTjr3Sy"
   },
   "source": [
    "**Вопрос:** Посчитайте и выведите количество параметров (весов) в замороженных слоях\n",
    "\n",
    "**Пример ответа:** `224513`"
   ]
  },
  {
   "cell_type": "code",
   "execution_count": null,
   "metadata": {
    "id": "zpHiYFjprrK_"
   },
   "outputs": [],
   "source": [
    "frozen_params = # YOUR CODE HERE\n",
    "frozen_params   ### здесь должен быть выведен ответ"
   ]
  },
  {
   "cell_type": "markdown",
   "metadata": {
    "id": "sIDIlXfiQKO2"
   },
   "source": [
    "**Задача 12:** Обучите только последний слой модели на датасете CIFAR10 (все остальные слои должны быть заморожены)"
   ]
  },
  {
   "cell_type": "code",
   "execution_count": null,
   "metadata": {
    "colab": {
     "base_uri": "https://localhost:8080/"
    },
    "id": "7I1lXkxGeRfg",
    "outputId": "7cbedff7-636f-45d9-87eb-efff9b91cfd5"
   },
   "outputs": [],
   "source": [
    "torch.manual_seed(42)\n",
    "\n",
    "criterion = torch.nn.CrossEntropyLoss()\n",
    "optimizer = torch.optim.Adam(model.parameters(), lr=0.01)\n",
    "\n",
    "model.train()\n",
    "\n",
    "for step, data in tqdm(enumerate(trainloader_cifar10), total=len(trainloader_cifar10)):\n",
    "    inputs, labels = data\n",
    "    inputs, labels = inputs.to(device), labels.to(device)\n",
    "\n",
    "    optimizer.zero_grad()\n",
    "    outputs = model(inputs)\n",
    "    loss = criterion(outputs, labels)\n",
    "\n",
    "    loss.backward()\n",
    "    optimizer.step()\n",
    "\n",
    "    if step % 10 == 0:\n",
    "      print(f'Step: {step}, Loss: {loss}')"
   ]
  },
  {
   "cell_type": "markdown",
   "metadata": {
    "id": "FR-yDDnXs_HJ"
   },
   "source": [
    "**Вопрос:** Посчитайте точность на тестовой выборке CIFAR10\n",
    "\n",
    "**Пример ответа:** `32.45`"
   ]
  },
  {
   "cell_type": "code",
   "execution_count": null,
   "metadata": {
    "id": "14Qt9zqfs-Kd"
   },
   "outputs": [],
   "source": [
    "accuracy = # YOUR CODE HERE\n",
    "print(f\"\\nTest accuracy: {100*accuracy}%\")   "
   ]
  },
  {
   "cell_type": "markdown",
   "metadata": {
    "id": "ZeA7f0zi5o8w"
   },
   "source": [
    "Как можете видеть, точность модели выросла до примерно 35%. Мы обучили только последний слой (классификации), а остальная часть сети осталось нетронутой (т.е. остальные слои обучены на датасете MNIST). Эта техника обучения и называется Transfer Learning.\n",
    "\n",
    "Теперь протестируйте эту модель еще раз на тестовой выборке MNIST:"
   ]
  },
  {
   "cell_type": "code",
   "execution_count": null,
   "metadata": {
    "colab": {
     "base_uri": "https://localhost:8080/"
    },
    "id": "JxYHD3IFod1p",
    "outputId": "cc873951-9e16-41ee-fe98-d7fb2a303bc6"
   },
   "outputs": [],
   "source": [
    "accuracy = test(model, testloader)\n",
    "print(f\"\\nMNIST test accuracy: {100*accuracy}%\")  "
   ]
  },
  {
   "cell_type": "markdown",
   "metadata": {
    "id": "X1r6N7cW6rch"
   },
   "source": [
    "Как вы можете видеть, точность упала ниже 10%, поскольку последний слой классификации теперь обучен на CIFAR10 датасете. Это называется \"катастрофическим забыванием\" (catastrophic forgetting). Катастрофическое забывание это тенденация нейронной сети забывать предыдущие обученные знания когда она обучается новой информации.\n",
    "\n",
    "Наконец, давайте вернем назад ранее сохраненный слой классификации обученный на MNIST и протестируем еще раз:"
   ]
  },
  {
   "cell_type": "markdown",
   "metadata": {
    "id": "IseXvSdRQcX-"
   },
   "source": [
    "**Задача 13:** Верните последний слой mnist_fc и проведите финальный тест на тестовых выборках MNIST и CIFAR10"
   ]
  },
  {
   "cell_type": "markdown",
   "metadata": {
    "id": "3Xr67kgiu73F"
   },
   "source": [
    "**Вопрос:** Посчитайте и выведите точность на тестовых выборках MNIST и CIFAR10\n",
    "\n",
    "**Пример ответа:** \n",
    "`CIFAR test accuracy: 9.45`\n",
    "`MNIST test accuracy: 51.68`"
   ]
  },
  {
   "cell_type": "code",
   "execution_count": null,
   "metadata": {
    "colab": {
     "base_uri": "https://localhost:8080/"
    },
    "id": "75NDth_Dol4c",
    "outputId": "8436bb86-1de9-4e76-e5a7-2a908e3bf55c"
   },
   "outputs": [],
   "source": [
    "model.fc =                                # верните в модель слой классификации обученный на MNIST\n",
    "model.fc = model.fc.cuda()                # Перенесем на cuda\n",
    "\n",
    "accuracy = test(model, testloader_cifar10)\n",
    "print(f\"\\nCIFAR test accuracy: {100*accuracy}%\")\n",
    "\n",
    "accuracy = test(model, testloader)\n",
    "print(f\"\\nMNIST test accuracy: {100*accuracy}%\")  "
   ]
  }
 ],
 "metadata": {
  "accelerator": "GPU",
  "colab": {
   "provenance": []
  },
  "gpuClass": "standard",
  "kernelspec": {
   "display_name": "Python 3 (ipykernel)",
   "language": "python",
   "name": "python3"
  },
  "language_info": {
   "codemirror_mode": {
    "name": "ipython",
    "version": 3
   },
   "file_extension": ".py",
   "mimetype": "text/x-python",
   "name": "python",
   "nbconvert_exporter": "python",
   "pygments_lexer": "ipython3",
   "version": "3.10.12"
  },
  "widgets": {
   "application/vnd.jupyter.widget-state+json": {
    "0ab9317bc3654c06b938ae2cd29035d7": {
     "model_module": "@jupyter-widgets/controls",
     "model_module_version": "1.5.0",
     "model_name": "HTMLModel",
     "state": {
      "_dom_classes": [],
      "_model_module": "@jupyter-widgets/controls",
      "_model_module_version": "1.5.0",
      "_model_name": "HTMLModel",
      "_view_count": null,
      "_view_module": "@jupyter-widgets/controls",
      "_view_module_version": "1.5.0",
      "_view_name": "HTMLView",
      "description": "",
      "description_tooltip": null,
      "layout": "IPY_MODEL_19bb4c0ea8cc46b1a7d4ead2ab7a76c6",
      "placeholder": "​",
      "style": "IPY_MODEL_d1be317d23574ba9955f7b78200c8c10",
      "value": "100%"
     }
    },
    "0d22f9c1fa3e46b29ea5421aaad84738": {
     "model_module": "@jupyter-widgets/base",
     "model_module_version": "1.2.0",
     "model_name": "LayoutModel",
     "state": {
      "_model_module": "@jupyter-widgets/base",
      "_model_module_version": "1.2.0",
      "_model_name": "LayoutModel",
      "_view_count": null,
      "_view_module": "@jupyter-widgets/base",
      "_view_module_version": "1.2.0",
      "_view_name": "LayoutView",
      "align_content": null,
      "align_items": null,
      "align_self": null,
      "border": null,
      "bottom": null,
      "display": null,
      "flex": null,
      "flex_flow": null,
      "grid_area": null,
      "grid_auto_columns": null,
      "grid_auto_flow": null,
      "grid_auto_rows": null,
      "grid_column": null,
      "grid_gap": null,
      "grid_row": null,
      "grid_template_areas": null,
      "grid_template_columns": null,
      "grid_template_rows": null,
      "height": null,
      "justify_content": null,
      "justify_items": null,
      "left": null,
      "margin": null,
      "max_height": null,
      "max_width": null,
      "min_height": null,
      "min_width": null,
      "object_fit": null,
      "object_position": null,
      "order": null,
      "overflow": null,
      "overflow_x": null,
      "overflow_y": null,
      "padding": null,
      "right": null,
      "top": null,
      "visibility": null,
      "width": null
     }
    },
    "0d2f43eb91b943f78a17bae9c6bbb182": {
     "model_module": "@jupyter-widgets/base",
     "model_module_version": "1.2.0",
     "model_name": "LayoutModel",
     "state": {
      "_model_module": "@jupyter-widgets/base",
      "_model_module_version": "1.2.0",
      "_model_name": "LayoutModel",
      "_view_count": null,
      "_view_module": "@jupyter-widgets/base",
      "_view_module_version": "1.2.0",
      "_view_name": "LayoutView",
      "align_content": null,
      "align_items": null,
      "align_self": null,
      "border": null,
      "bottom": null,
      "display": null,
      "flex": null,
      "flex_flow": null,
      "grid_area": null,
      "grid_auto_columns": null,
      "grid_auto_flow": null,
      "grid_auto_rows": null,
      "grid_column": null,
      "grid_gap": null,
      "grid_row": null,
      "grid_template_areas": null,
      "grid_template_columns": null,
      "grid_template_rows": null,
      "height": null,
      "justify_content": null,
      "justify_items": null,
      "left": null,
      "margin": null,
      "max_height": null,
      "max_width": null,
      "min_height": null,
      "min_width": null,
      "object_fit": null,
      "object_position": null,
      "order": null,
      "overflow": null,
      "overflow_x": null,
      "overflow_y": null,
      "padding": null,
      "right": null,
      "top": null,
      "visibility": null,
      "width": null
     }
    },
    "0ffcc374bbfe4d5a89d883d65336e919": {
     "model_module": "@jupyter-widgets/controls",
     "model_module_version": "1.5.0",
     "model_name": "HTMLModel",
     "state": {
      "_dom_classes": [],
      "_model_module": "@jupyter-widgets/controls",
      "_model_module_version": "1.5.0",
      "_model_name": "HTMLModel",
      "_view_count": null,
      "_view_module": "@jupyter-widgets/controls",
      "_view_module_version": "1.5.0",
      "_view_name": "HTMLView",
      "description": "",
      "description_tooltip": null,
      "layout": "IPY_MODEL_f63029edca9f4fc88f7bb98827916759",
      "placeholder": "​",
      "style": "IPY_MODEL_aaa8d79a5b424609a06a8d0afcb8b48f",
      "value": "100%"
     }
    },
    "1314e991cc824859baabcff65fce46ce": {
     "model_module": "@jupyter-widgets/controls",
     "model_module_version": "1.5.0",
     "model_name": "DescriptionStyleModel",
     "state": {
      "_model_module": "@jupyter-widgets/controls",
      "_model_module_version": "1.5.0",
      "_model_name": "DescriptionStyleModel",
      "_view_count": null,
      "_view_module": "@jupyter-widgets/base",
      "_view_module_version": "1.2.0",
      "_view_name": "StyleView",
      "description_width": ""
     }
    },
    "158a2671a1f846e3808fdebfbc85a0a8": {
     "model_module": "@jupyter-widgets/controls",
     "model_module_version": "1.5.0",
     "model_name": "HTMLModel",
     "state": {
      "_dom_classes": [],
      "_model_module": "@jupyter-widgets/controls",
      "_model_module_version": "1.5.0",
      "_model_name": "HTMLModel",
      "_view_count": null,
      "_view_module": "@jupyter-widgets/controls",
      "_view_module_version": "1.5.0",
      "_view_name": "HTMLView",
      "description": "",
      "description_tooltip": null,
      "layout": "IPY_MODEL_b2dce7051bfe48a49e2007c480fd803f",
      "placeholder": "​",
      "style": "IPY_MODEL_6bdff8a3a3434736bef90c73cf64be19",
      "value": " 9912422/9912422 [00:00&lt;00:00, 119461166.07it/s]"
     }
    },
    "19bb4c0ea8cc46b1a7d4ead2ab7a76c6": {
     "model_module": "@jupyter-widgets/base",
     "model_module_version": "1.2.0",
     "model_name": "LayoutModel",
     "state": {
      "_model_module": "@jupyter-widgets/base",
      "_model_module_version": "1.2.0",
      "_model_name": "LayoutModel",
      "_view_count": null,
      "_view_module": "@jupyter-widgets/base",
      "_view_module_version": "1.2.0",
      "_view_name": "LayoutView",
      "align_content": null,
      "align_items": null,
      "align_self": null,
      "border": null,
      "bottom": null,
      "display": null,
      "flex": null,
      "flex_flow": null,
      "grid_area": null,
      "grid_auto_columns": null,
      "grid_auto_flow": null,
      "grid_auto_rows": null,
      "grid_column": null,
      "grid_gap": null,
      "grid_row": null,
      "grid_template_areas": null,
      "grid_template_columns": null,
      "grid_template_rows": null,
      "height": null,
      "justify_content": null,
      "justify_items": null,
      "left": null,
      "margin": null,
      "max_height": null,
      "max_width": null,
      "min_height": null,
      "min_width": null,
      "object_fit": null,
      "object_position": null,
      "order": null,
      "overflow": null,
      "overflow_x": null,
      "overflow_y": null,
      "padding": null,
      "right": null,
      "top": null,
      "visibility": null,
      "width": null
     }
    },
    "1b437b0c915549b19225dc3459d5eab0": {
     "model_module": "@jupyter-widgets/controls",
     "model_module_version": "1.5.0",
     "model_name": "FloatProgressModel",
     "state": {
      "_dom_classes": [],
      "_model_module": "@jupyter-widgets/controls",
      "_model_module_version": "1.5.0",
      "_model_name": "FloatProgressModel",
      "_view_count": null,
      "_view_module": "@jupyter-widgets/controls",
      "_view_module_version": "1.5.0",
      "_view_name": "ProgressView",
      "bar_style": "success",
      "description": "",
      "description_tooltip": null,
      "layout": "IPY_MODEL_934ccc3dc11543cdb17c81c5a98e5921",
      "max": 9912422,
      "min": 0,
      "orientation": "horizontal",
      "style": "IPY_MODEL_472f3fcd1b4544bf95b3c8422360cd9a",
      "value": 9912422
     }
    },
    "29331652749544e9a303e626f10b4bce": {
     "model_module": "@jupyter-widgets/base",
     "model_module_version": "1.2.0",
     "model_name": "LayoutModel",
     "state": {
      "_model_module": "@jupyter-widgets/base",
      "_model_module_version": "1.2.0",
      "_model_name": "LayoutModel",
      "_view_count": null,
      "_view_module": "@jupyter-widgets/base",
      "_view_module_version": "1.2.0",
      "_view_name": "LayoutView",
      "align_content": null,
      "align_items": null,
      "align_self": null,
      "border": null,
      "bottom": null,
      "display": null,
      "flex": null,
      "flex_flow": null,
      "grid_area": null,
      "grid_auto_columns": null,
      "grid_auto_flow": null,
      "grid_auto_rows": null,
      "grid_column": null,
      "grid_gap": null,
      "grid_row": null,
      "grid_template_areas": null,
      "grid_template_columns": null,
      "grid_template_rows": null,
      "height": null,
      "justify_content": null,
      "justify_items": null,
      "left": null,
      "margin": null,
      "max_height": null,
      "max_width": null,
      "min_height": null,
      "min_width": null,
      "object_fit": null,
      "object_position": null,
      "order": null,
      "overflow": null,
      "overflow_x": null,
      "overflow_y": null,
      "padding": null,
      "right": null,
      "top": null,
      "visibility": null,
      "width": null
     }
    },
    "2f35198891fb4c41a7bfeb8bfaef94df": {
     "model_module": "@jupyter-widgets/base",
     "model_module_version": "1.2.0",
     "model_name": "LayoutModel",
     "state": {
      "_model_module": "@jupyter-widgets/base",
      "_model_module_version": "1.2.0",
      "_model_name": "LayoutModel",
      "_view_count": null,
      "_view_module": "@jupyter-widgets/base",
      "_view_module_version": "1.2.0",
      "_view_name": "LayoutView",
      "align_content": null,
      "align_items": null,
      "align_self": null,
      "border": null,
      "bottom": null,
      "display": null,
      "flex": null,
      "flex_flow": null,
      "grid_area": null,
      "grid_auto_columns": null,
      "grid_auto_flow": null,
      "grid_auto_rows": null,
      "grid_column": null,
      "grid_gap": null,
      "grid_row": null,
      "grid_template_areas": null,
      "grid_template_columns": null,
      "grid_template_rows": null,
      "height": null,
      "justify_content": null,
      "justify_items": null,
      "left": null,
      "margin": null,
      "max_height": null,
      "max_width": null,
      "min_height": null,
      "min_width": null,
      "object_fit": null,
      "object_position": null,
      "order": null,
      "overflow": null,
      "overflow_x": null,
      "overflow_y": null,
      "padding": null,
      "right": null,
      "top": null,
      "visibility": null,
      "width": null
     }
    },
    "3ad89c2289e446d696b926f618db17ae": {
     "model_module": "@jupyter-widgets/controls",
     "model_module_version": "1.5.0",
     "model_name": "HTMLModel",
     "state": {
      "_dom_classes": [],
      "_model_module": "@jupyter-widgets/controls",
      "_model_module_version": "1.5.0",
      "_model_name": "HTMLModel",
      "_view_count": null,
      "_view_module": "@jupyter-widgets/controls",
      "_view_module_version": "1.5.0",
      "_view_name": "HTMLView",
      "description": "",
      "description_tooltip": null,
      "layout": "IPY_MODEL_ee30d07d5ea44e74824c36252e650cb1",
      "placeholder": "​",
      "style": "IPY_MODEL_3e8287f8b1f64d7e86ece632bf1a1127",
      "value": " 28881/28881 [00:00&lt;00:00, 667252.53it/s]"
     }
    },
    "3cf590dae1ba464b8bf02657b7b72c9c": {
     "model_module": "@jupyter-widgets/base",
     "model_module_version": "1.2.0",
     "model_name": "LayoutModel",
     "state": {
      "_model_module": "@jupyter-widgets/base",
      "_model_module_version": "1.2.0",
      "_model_name": "LayoutModel",
      "_view_count": null,
      "_view_module": "@jupyter-widgets/base",
      "_view_module_version": "1.2.0",
      "_view_name": "LayoutView",
      "align_content": null,
      "align_items": null,
      "align_self": null,
      "border": null,
      "bottom": null,
      "display": null,
      "flex": null,
      "flex_flow": null,
      "grid_area": null,
      "grid_auto_columns": null,
      "grid_auto_flow": null,
      "grid_auto_rows": null,
      "grid_column": null,
      "grid_gap": null,
      "grid_row": null,
      "grid_template_areas": null,
      "grid_template_columns": null,
      "grid_template_rows": null,
      "height": null,
      "justify_content": null,
      "justify_items": null,
      "left": null,
      "margin": null,
      "max_height": null,
      "max_width": null,
      "min_height": null,
      "min_width": null,
      "object_fit": null,
      "object_position": null,
      "order": null,
      "overflow": null,
      "overflow_x": null,
      "overflow_y": null,
      "padding": null,
      "right": null,
      "top": null,
      "visibility": null,
      "width": null
     }
    },
    "3e6d5e6dde0b4715b214009c448038d2": {
     "model_module": "@jupyter-widgets/controls",
     "model_module_version": "1.5.0",
     "model_name": "HTMLModel",
     "state": {
      "_dom_classes": [],
      "_model_module": "@jupyter-widgets/controls",
      "_model_module_version": "1.5.0",
      "_model_name": "HTMLModel",
      "_view_count": null,
      "_view_module": "@jupyter-widgets/controls",
      "_view_module_version": "1.5.0",
      "_view_name": "HTMLView",
      "description": "",
      "description_tooltip": null,
      "layout": "IPY_MODEL_b941b441ad73433ebd91b3b5e32918a7",
      "placeholder": "​",
      "style": "IPY_MODEL_9af3c7842023410b95b51194e3ce5785",
      "value": "100%"
     }
    },
    "3e8287f8b1f64d7e86ece632bf1a1127": {
     "model_module": "@jupyter-widgets/controls",
     "model_module_version": "1.5.0",
     "model_name": "DescriptionStyleModel",
     "state": {
      "_model_module": "@jupyter-widgets/controls",
      "_model_module_version": "1.5.0",
      "_model_name": "DescriptionStyleModel",
      "_view_count": null,
      "_view_module": "@jupyter-widgets/base",
      "_view_module_version": "1.2.0",
      "_view_name": "StyleView",
      "description_width": ""
     }
    },
    "3f8e52d7ada947a9a86cccc688a03c27": {
     "model_module": "@jupyter-widgets/controls",
     "model_module_version": "1.5.0",
     "model_name": "HBoxModel",
     "state": {
      "_dom_classes": [],
      "_model_module": "@jupyter-widgets/controls",
      "_model_module_version": "1.5.0",
      "_model_name": "HBoxModel",
      "_view_count": null,
      "_view_module": "@jupyter-widgets/controls",
      "_view_module_version": "1.5.0",
      "_view_name": "HBoxView",
      "box_style": "",
      "children": [
       "IPY_MODEL_5dd8f6c8b14b4ad09fd86a15ffa456ea",
       "IPY_MODEL_1b437b0c915549b19225dc3459d5eab0",
       "IPY_MODEL_158a2671a1f846e3808fdebfbc85a0a8"
      ],
      "layout": "IPY_MODEL_2f35198891fb4c41a7bfeb8bfaef94df"
     }
    },
    "40207981f4a942e3a66c81983c9725ff": {
     "model_module": "@jupyter-widgets/controls",
     "model_module_version": "1.5.0",
     "model_name": "ProgressStyleModel",
     "state": {
      "_model_module": "@jupyter-widgets/controls",
      "_model_module_version": "1.5.0",
      "_model_name": "ProgressStyleModel",
      "_view_count": null,
      "_view_module": "@jupyter-widgets/base",
      "_view_module_version": "1.2.0",
      "_view_name": "StyleView",
      "bar_color": null,
      "description_width": ""
     }
    },
    "472f3fcd1b4544bf95b3c8422360cd9a": {
     "model_module": "@jupyter-widgets/controls",
     "model_module_version": "1.5.0",
     "model_name": "ProgressStyleModel",
     "state": {
      "_model_module": "@jupyter-widgets/controls",
      "_model_module_version": "1.5.0",
      "_model_name": "ProgressStyleModel",
      "_view_count": null,
      "_view_module": "@jupyter-widgets/base",
      "_view_module_version": "1.2.0",
      "_view_name": "StyleView",
      "bar_color": null,
      "description_width": ""
     }
    },
    "4b410b1dc0854543b2247282a5153fac": {
     "model_module": "@jupyter-widgets/base",
     "model_module_version": "1.2.0",
     "model_name": "LayoutModel",
     "state": {
      "_model_module": "@jupyter-widgets/base",
      "_model_module_version": "1.2.0",
      "_model_name": "LayoutModel",
      "_view_count": null,
      "_view_module": "@jupyter-widgets/base",
      "_view_module_version": "1.2.0",
      "_view_name": "LayoutView",
      "align_content": null,
      "align_items": null,
      "align_self": null,
      "border": null,
      "bottom": null,
      "display": null,
      "flex": null,
      "flex_flow": null,
      "grid_area": null,
      "grid_auto_columns": null,
      "grid_auto_flow": null,
      "grid_auto_rows": null,
      "grid_column": null,
      "grid_gap": null,
      "grid_row": null,
      "grid_template_areas": null,
      "grid_template_columns": null,
      "grid_template_rows": null,
      "height": null,
      "justify_content": null,
      "justify_items": null,
      "left": null,
      "margin": null,
      "max_height": null,
      "max_width": null,
      "min_height": null,
      "min_width": null,
      "object_fit": null,
      "object_position": null,
      "order": null,
      "overflow": null,
      "overflow_x": null,
      "overflow_y": null,
      "padding": null,
      "right": null,
      "top": null,
      "visibility": null,
      "width": null
     }
    },
    "519455372df4443f841defbe6c20d72f": {
     "model_module": "@jupyter-widgets/controls",
     "model_module_version": "1.5.0",
     "model_name": "HBoxModel",
     "state": {
      "_dom_classes": [],
      "_model_module": "@jupyter-widgets/controls",
      "_model_module_version": "1.5.0",
      "_model_name": "HBoxModel",
      "_view_count": null,
      "_view_module": "@jupyter-widgets/controls",
      "_view_module_version": "1.5.0",
      "_view_name": "HBoxView",
      "box_style": "",
      "children": [
       "IPY_MODEL_0ffcc374bbfe4d5a89d883d65336e919",
       "IPY_MODEL_a2f280df2edb4a74acf97234c2c37810",
       "IPY_MODEL_3ad89c2289e446d696b926f618db17ae"
      ],
      "layout": "IPY_MODEL_0d22f9c1fa3e46b29ea5421aaad84738"
     }
    },
    "5338a92c8e054f74a2c51c8c84f23fbc": {
     "model_module": "@jupyter-widgets/base",
     "model_module_version": "1.2.0",
     "model_name": "LayoutModel",
     "state": {
      "_model_module": "@jupyter-widgets/base",
      "_model_module_version": "1.2.0",
      "_model_name": "LayoutModel",
      "_view_count": null,
      "_view_module": "@jupyter-widgets/base",
      "_view_module_version": "1.2.0",
      "_view_name": "LayoutView",
      "align_content": null,
      "align_items": null,
      "align_self": null,
      "border": null,
      "bottom": null,
      "display": null,
      "flex": null,
      "flex_flow": null,
      "grid_area": null,
      "grid_auto_columns": null,
      "grid_auto_flow": null,
      "grid_auto_rows": null,
      "grid_column": null,
      "grid_gap": null,
      "grid_row": null,
      "grid_template_areas": null,
      "grid_template_columns": null,
      "grid_template_rows": null,
      "height": null,
      "justify_content": null,
      "justify_items": null,
      "left": null,
      "margin": null,
      "max_height": null,
      "max_width": null,
      "min_height": null,
      "min_width": null,
      "object_fit": null,
      "object_position": null,
      "order": null,
      "overflow": null,
      "overflow_x": null,
      "overflow_y": null,
      "padding": null,
      "right": null,
      "top": null,
      "visibility": null,
      "width": null
     }
    },
    "577bd1a594144e42864d09296cc8ed31": {
     "model_module": "@jupyter-widgets/controls",
     "model_module_version": "1.5.0",
     "model_name": "ProgressStyleModel",
     "state": {
      "_model_module": "@jupyter-widgets/controls",
      "_model_module_version": "1.5.0",
      "_model_name": "ProgressStyleModel",
      "_view_count": null,
      "_view_module": "@jupyter-widgets/base",
      "_view_module_version": "1.2.0",
      "_view_name": "StyleView",
      "bar_color": null,
      "description_width": ""
     }
    },
    "5dd8f6c8b14b4ad09fd86a15ffa456ea": {
     "model_module": "@jupyter-widgets/controls",
     "model_module_version": "1.5.0",
     "model_name": "HTMLModel",
     "state": {
      "_dom_classes": [],
      "_model_module": "@jupyter-widgets/controls",
      "_model_module_version": "1.5.0",
      "_model_name": "HTMLModel",
      "_view_count": null,
      "_view_module": "@jupyter-widgets/controls",
      "_view_module_version": "1.5.0",
      "_view_name": "HTMLView",
      "description": "",
      "description_tooltip": null,
      "layout": "IPY_MODEL_4b410b1dc0854543b2247282a5153fac",
      "placeholder": "​",
      "style": "IPY_MODEL_ccce112b1b324e28b189d9ee2d5e47ab",
      "value": "100%"
     }
    },
    "5e91d981cc08421e802c385b2a004ce1": {
     "model_module": "@jupyter-widgets/controls",
     "model_module_version": "1.5.0",
     "model_name": "FloatProgressModel",
     "state": {
      "_dom_classes": [],
      "_model_module": "@jupyter-widgets/controls",
      "_model_module_version": "1.5.0",
      "_model_name": "FloatProgressModel",
      "_view_count": null,
      "_view_module": "@jupyter-widgets/controls",
      "_view_module_version": "1.5.0",
      "_view_name": "ProgressView",
      "bar_style": "success",
      "description": "",
      "description_tooltip": null,
      "layout": "IPY_MODEL_7d29978830a8450cbb52c18c5b890f6f",
      "max": 1648877,
      "min": 0,
      "orientation": "horizontal",
      "style": "IPY_MODEL_f82d82f7b4ab4ee4b6dce82e269e20d9",
      "value": 1648877
     }
    },
    "6bdff8a3a3434736bef90c73cf64be19": {
     "model_module": "@jupyter-widgets/controls",
     "model_module_version": "1.5.0",
     "model_name": "DescriptionStyleModel",
     "state": {
      "_model_module": "@jupyter-widgets/controls",
      "_model_module_version": "1.5.0",
      "_model_name": "DescriptionStyleModel",
      "_view_count": null,
      "_view_module": "@jupyter-widgets/base",
      "_view_module_version": "1.2.0",
      "_view_name": "StyleView",
      "description_width": ""
     }
    },
    "773a7c98dffc44b3bc755870c19fea6d": {
     "model_module": "@jupyter-widgets/base",
     "model_module_version": "1.2.0",
     "model_name": "LayoutModel",
     "state": {
      "_model_module": "@jupyter-widgets/base",
      "_model_module_version": "1.2.0",
      "_model_name": "LayoutModel",
      "_view_count": null,
      "_view_module": "@jupyter-widgets/base",
      "_view_module_version": "1.2.0",
      "_view_name": "LayoutView",
      "align_content": null,
      "align_items": null,
      "align_self": null,
      "border": null,
      "bottom": null,
      "display": null,
      "flex": null,
      "flex_flow": null,
      "grid_area": null,
      "grid_auto_columns": null,
      "grid_auto_flow": null,
      "grid_auto_rows": null,
      "grid_column": null,
      "grid_gap": null,
      "grid_row": null,
      "grid_template_areas": null,
      "grid_template_columns": null,
      "grid_template_rows": null,
      "height": null,
      "justify_content": null,
      "justify_items": null,
      "left": null,
      "margin": null,
      "max_height": null,
      "max_width": null,
      "min_height": null,
      "min_width": null,
      "object_fit": null,
      "object_position": null,
      "order": null,
      "overflow": null,
      "overflow_x": null,
      "overflow_y": null,
      "padding": null,
      "right": null,
      "top": null,
      "visibility": null,
      "width": null
     }
    },
    "7a433685d79f4859a23a1a012ec9640b": {
     "model_module": "@jupyter-widgets/controls",
     "model_module_version": "1.5.0",
     "model_name": "FloatProgressModel",
     "state": {
      "_dom_classes": [],
      "_model_module": "@jupyter-widgets/controls",
      "_model_module_version": "1.5.0",
      "_model_name": "FloatProgressModel",
      "_view_count": null,
      "_view_module": "@jupyter-widgets/controls",
      "_view_module_version": "1.5.0",
      "_view_name": "ProgressView",
      "bar_style": "success",
      "description": "",
      "description_tooltip": null,
      "layout": "IPY_MODEL_773a7c98dffc44b3bc755870c19fea6d",
      "max": 4542,
      "min": 0,
      "orientation": "horizontal",
      "style": "IPY_MODEL_40207981f4a942e3a66c81983c9725ff",
      "value": 4542
     }
    },
    "7d29978830a8450cbb52c18c5b890f6f": {
     "model_module": "@jupyter-widgets/base",
     "model_module_version": "1.2.0",
     "model_name": "LayoutModel",
     "state": {
      "_model_module": "@jupyter-widgets/base",
      "_model_module_version": "1.2.0",
      "_model_name": "LayoutModel",
      "_view_count": null,
      "_view_module": "@jupyter-widgets/base",
      "_view_module_version": "1.2.0",
      "_view_name": "LayoutView",
      "align_content": null,
      "align_items": null,
      "align_self": null,
      "border": null,
      "bottom": null,
      "display": null,
      "flex": null,
      "flex_flow": null,
      "grid_area": null,
      "grid_auto_columns": null,
      "grid_auto_flow": null,
      "grid_auto_rows": null,
      "grid_column": null,
      "grid_gap": null,
      "grid_row": null,
      "grid_template_areas": null,
      "grid_template_columns": null,
      "grid_template_rows": null,
      "height": null,
      "justify_content": null,
      "justify_items": null,
      "left": null,
      "margin": null,
      "max_height": null,
      "max_width": null,
      "min_height": null,
      "min_width": null,
      "object_fit": null,
      "object_position": null,
      "order": null,
      "overflow": null,
      "overflow_x": null,
      "overflow_y": null,
      "padding": null,
      "right": null,
      "top": null,
      "visibility": null,
      "width": null
     }
    },
    "8cc2078175b44094918798344824c275": {
     "model_module": "@jupyter-widgets/controls",
     "model_module_version": "1.5.0",
     "model_name": "HTMLModel",
     "state": {
      "_dom_classes": [],
      "_model_module": "@jupyter-widgets/controls",
      "_model_module_version": "1.5.0",
      "_model_name": "HTMLModel",
      "_view_count": null,
      "_view_module": "@jupyter-widgets/controls",
      "_view_module_version": "1.5.0",
      "_view_name": "HTMLView",
      "description": "",
      "description_tooltip": null,
      "layout": "IPY_MODEL_3cf590dae1ba464b8bf02657b7b72c9c",
      "placeholder": "​",
      "style": "IPY_MODEL_a5185e691c684042bf925c92284db9ad",
      "value": " 4542/4542 [00:00&lt;00:00, 63542.43it/s]"
     }
    },
    "934ccc3dc11543cdb17c81c5a98e5921": {
     "model_module": "@jupyter-widgets/base",
     "model_module_version": "1.2.0",
     "model_name": "LayoutModel",
     "state": {
      "_model_module": "@jupyter-widgets/base",
      "_model_module_version": "1.2.0",
      "_model_name": "LayoutModel",
      "_view_count": null,
      "_view_module": "@jupyter-widgets/base",
      "_view_module_version": "1.2.0",
      "_view_name": "LayoutView",
      "align_content": null,
      "align_items": null,
      "align_self": null,
      "border": null,
      "bottom": null,
      "display": null,
      "flex": null,
      "flex_flow": null,
      "grid_area": null,
      "grid_auto_columns": null,
      "grid_auto_flow": null,
      "grid_auto_rows": null,
      "grid_column": null,
      "grid_gap": null,
      "grid_row": null,
      "grid_template_areas": null,
      "grid_template_columns": null,
      "grid_template_rows": null,
      "height": null,
      "justify_content": null,
      "justify_items": null,
      "left": null,
      "margin": null,
      "max_height": null,
      "max_width": null,
      "min_height": null,
      "min_width": null,
      "object_fit": null,
      "object_position": null,
      "order": null,
      "overflow": null,
      "overflow_x": null,
      "overflow_y": null,
      "padding": null,
      "right": null,
      "top": null,
      "visibility": null,
      "width": null
     }
    },
    "9af3c7842023410b95b51194e3ce5785": {
     "model_module": "@jupyter-widgets/controls",
     "model_module_version": "1.5.0",
     "model_name": "DescriptionStyleModel",
     "state": {
      "_model_module": "@jupyter-widgets/controls",
      "_model_module_version": "1.5.0",
      "_model_name": "DescriptionStyleModel",
      "_view_count": null,
      "_view_module": "@jupyter-widgets/base",
      "_view_module_version": "1.2.0",
      "_view_name": "StyleView",
      "description_width": ""
     }
    },
    "a2f280df2edb4a74acf97234c2c37810": {
     "model_module": "@jupyter-widgets/controls",
     "model_module_version": "1.5.0",
     "model_name": "FloatProgressModel",
     "state": {
      "_dom_classes": [],
      "_model_module": "@jupyter-widgets/controls",
      "_model_module_version": "1.5.0",
      "_model_name": "FloatProgressModel",
      "_view_count": null,
      "_view_module": "@jupyter-widgets/controls",
      "_view_module_version": "1.5.0",
      "_view_name": "ProgressView",
      "bar_style": "success",
      "description": "",
      "description_tooltip": null,
      "layout": "IPY_MODEL_0d2f43eb91b943f78a17bae9c6bbb182",
      "max": 28881,
      "min": 0,
      "orientation": "horizontal",
      "style": "IPY_MODEL_577bd1a594144e42864d09296cc8ed31",
      "value": 28881
     }
    },
    "a5185e691c684042bf925c92284db9ad": {
     "model_module": "@jupyter-widgets/controls",
     "model_module_version": "1.5.0",
     "model_name": "DescriptionStyleModel",
     "state": {
      "_model_module": "@jupyter-widgets/controls",
      "_model_module_version": "1.5.0",
      "_model_name": "DescriptionStyleModel",
      "_view_count": null,
      "_view_module": "@jupyter-widgets/base",
      "_view_module_version": "1.2.0",
      "_view_name": "StyleView",
      "description_width": ""
     }
    },
    "aaa8d79a5b424609a06a8d0afcb8b48f": {
     "model_module": "@jupyter-widgets/controls",
     "model_module_version": "1.5.0",
     "model_name": "DescriptionStyleModel",
     "state": {
      "_model_module": "@jupyter-widgets/controls",
      "_model_module_version": "1.5.0",
      "_model_name": "DescriptionStyleModel",
      "_view_count": null,
      "_view_module": "@jupyter-widgets/base",
      "_view_module_version": "1.2.0",
      "_view_name": "StyleView",
      "description_width": ""
     }
    },
    "b2dce7051bfe48a49e2007c480fd803f": {
     "model_module": "@jupyter-widgets/base",
     "model_module_version": "1.2.0",
     "model_name": "LayoutModel",
     "state": {
      "_model_module": "@jupyter-widgets/base",
      "_model_module_version": "1.2.0",
      "_model_name": "LayoutModel",
      "_view_count": null,
      "_view_module": "@jupyter-widgets/base",
      "_view_module_version": "1.2.0",
      "_view_name": "LayoutView",
      "align_content": null,
      "align_items": null,
      "align_self": null,
      "border": null,
      "bottom": null,
      "display": null,
      "flex": null,
      "flex_flow": null,
      "grid_area": null,
      "grid_auto_columns": null,
      "grid_auto_flow": null,
      "grid_auto_rows": null,
      "grid_column": null,
      "grid_gap": null,
      "grid_row": null,
      "grid_template_areas": null,
      "grid_template_columns": null,
      "grid_template_rows": null,
      "height": null,
      "justify_content": null,
      "justify_items": null,
      "left": null,
      "margin": null,
      "max_height": null,
      "max_width": null,
      "min_height": null,
      "min_width": null,
      "object_fit": null,
      "object_position": null,
      "order": null,
      "overflow": null,
      "overflow_x": null,
      "overflow_y": null,
      "padding": null,
      "right": null,
      "top": null,
      "visibility": null,
      "width": null
     }
    },
    "b92de090e34a48d99e0a9e769aeb6a6d": {
     "model_module": "@jupyter-widgets/controls",
     "model_module_version": "1.5.0",
     "model_name": "HTMLModel",
     "state": {
      "_dom_classes": [],
      "_model_module": "@jupyter-widgets/controls",
      "_model_module_version": "1.5.0",
      "_model_name": "HTMLModel",
      "_view_count": null,
      "_view_module": "@jupyter-widgets/controls",
      "_view_module_version": "1.5.0",
      "_view_name": "HTMLView",
      "description": "",
      "description_tooltip": null,
      "layout": "IPY_MODEL_c173a6ceaf2f45ccb301000675bfcd79",
      "placeholder": "​",
      "style": "IPY_MODEL_1314e991cc824859baabcff65fce46ce",
      "value": " 1648877/1648877 [00:00&lt;00:00, 23952549.23it/s]"
     }
    },
    "b941b441ad73433ebd91b3b5e32918a7": {
     "model_module": "@jupyter-widgets/base",
     "model_module_version": "1.2.0",
     "model_name": "LayoutModel",
     "state": {
      "_model_module": "@jupyter-widgets/base",
      "_model_module_version": "1.2.0",
      "_model_name": "LayoutModel",
      "_view_count": null,
      "_view_module": "@jupyter-widgets/base",
      "_view_module_version": "1.2.0",
      "_view_name": "LayoutView",
      "align_content": null,
      "align_items": null,
      "align_self": null,
      "border": null,
      "bottom": null,
      "display": null,
      "flex": null,
      "flex_flow": null,
      "grid_area": null,
      "grid_auto_columns": null,
      "grid_auto_flow": null,
      "grid_auto_rows": null,
      "grid_column": null,
      "grid_gap": null,
      "grid_row": null,
      "grid_template_areas": null,
      "grid_template_columns": null,
      "grid_template_rows": null,
      "height": null,
      "justify_content": null,
      "justify_items": null,
      "left": null,
      "margin": null,
      "max_height": null,
      "max_width": null,
      "min_height": null,
      "min_width": null,
      "object_fit": null,
      "object_position": null,
      "order": null,
      "overflow": null,
      "overflow_x": null,
      "overflow_y": null,
      "padding": null,
      "right": null,
      "top": null,
      "visibility": null,
      "width": null
     }
    },
    "c173a6ceaf2f45ccb301000675bfcd79": {
     "model_module": "@jupyter-widgets/base",
     "model_module_version": "1.2.0",
     "model_name": "LayoutModel",
     "state": {
      "_model_module": "@jupyter-widgets/base",
      "_model_module_version": "1.2.0",
      "_model_name": "LayoutModel",
      "_view_count": null,
      "_view_module": "@jupyter-widgets/base",
      "_view_module_version": "1.2.0",
      "_view_name": "LayoutView",
      "align_content": null,
      "align_items": null,
      "align_self": null,
      "border": null,
      "bottom": null,
      "display": null,
      "flex": null,
      "flex_flow": null,
      "grid_area": null,
      "grid_auto_columns": null,
      "grid_auto_flow": null,
      "grid_auto_rows": null,
      "grid_column": null,
      "grid_gap": null,
      "grid_row": null,
      "grid_template_areas": null,
      "grid_template_columns": null,
      "grid_template_rows": null,
      "height": null,
      "justify_content": null,
      "justify_items": null,
      "left": null,
      "margin": null,
      "max_height": null,
      "max_width": null,
      "min_height": null,
      "min_width": null,
      "object_fit": null,
      "object_position": null,
      "order": null,
      "overflow": null,
      "overflow_x": null,
      "overflow_y": null,
      "padding": null,
      "right": null,
      "top": null,
      "visibility": null,
      "width": null
     }
    },
    "ccce112b1b324e28b189d9ee2d5e47ab": {
     "model_module": "@jupyter-widgets/controls",
     "model_module_version": "1.5.0",
     "model_name": "DescriptionStyleModel",
     "state": {
      "_model_module": "@jupyter-widgets/controls",
      "_model_module_version": "1.5.0",
      "_model_name": "DescriptionStyleModel",
      "_view_count": null,
      "_view_module": "@jupyter-widgets/base",
      "_view_module_version": "1.2.0",
      "_view_name": "StyleView",
      "description_width": ""
     }
    },
    "d1be317d23574ba9955f7b78200c8c10": {
     "model_module": "@jupyter-widgets/controls",
     "model_module_version": "1.5.0",
     "model_name": "DescriptionStyleModel",
     "state": {
      "_model_module": "@jupyter-widgets/controls",
      "_model_module_version": "1.5.0",
      "_model_name": "DescriptionStyleModel",
      "_view_count": null,
      "_view_module": "@jupyter-widgets/base",
      "_view_module_version": "1.2.0",
      "_view_name": "StyleView",
      "description_width": ""
     }
    },
    "ee30d07d5ea44e74824c36252e650cb1": {
     "model_module": "@jupyter-widgets/base",
     "model_module_version": "1.2.0",
     "model_name": "LayoutModel",
     "state": {
      "_model_module": "@jupyter-widgets/base",
      "_model_module_version": "1.2.0",
      "_model_name": "LayoutModel",
      "_view_count": null,
      "_view_module": "@jupyter-widgets/base",
      "_view_module_version": "1.2.0",
      "_view_name": "LayoutView",
      "align_content": null,
      "align_items": null,
      "align_self": null,
      "border": null,
      "bottom": null,
      "display": null,
      "flex": null,
      "flex_flow": null,
      "grid_area": null,
      "grid_auto_columns": null,
      "grid_auto_flow": null,
      "grid_auto_rows": null,
      "grid_column": null,
      "grid_gap": null,
      "grid_row": null,
      "grid_template_areas": null,
      "grid_template_columns": null,
      "grid_template_rows": null,
      "height": null,
      "justify_content": null,
      "justify_items": null,
      "left": null,
      "margin": null,
      "max_height": null,
      "max_width": null,
      "min_height": null,
      "min_width": null,
      "object_fit": null,
      "object_position": null,
      "order": null,
      "overflow": null,
      "overflow_x": null,
      "overflow_y": null,
      "padding": null,
      "right": null,
      "top": null,
      "visibility": null,
      "width": null
     }
    },
    "f54257e8690144c2bf64a7ac4d5852f6": {
     "model_module": "@jupyter-widgets/controls",
     "model_module_version": "1.5.0",
     "model_name": "HBoxModel",
     "state": {
      "_dom_classes": [],
      "_model_module": "@jupyter-widgets/controls",
      "_model_module_version": "1.5.0",
      "_model_name": "HBoxModel",
      "_view_count": null,
      "_view_module": "@jupyter-widgets/controls",
      "_view_module_version": "1.5.0",
      "_view_name": "HBoxView",
      "box_style": "",
      "children": [
       "IPY_MODEL_3e6d5e6dde0b4715b214009c448038d2",
       "IPY_MODEL_5e91d981cc08421e802c385b2a004ce1",
       "IPY_MODEL_b92de090e34a48d99e0a9e769aeb6a6d"
      ],
      "layout": "IPY_MODEL_5338a92c8e054f74a2c51c8c84f23fbc"
     }
    },
    "f63029edca9f4fc88f7bb98827916759": {
     "model_module": "@jupyter-widgets/base",
     "model_module_version": "1.2.0",
     "model_name": "LayoutModel",
     "state": {
      "_model_module": "@jupyter-widgets/base",
      "_model_module_version": "1.2.0",
      "_model_name": "LayoutModel",
      "_view_count": null,
      "_view_module": "@jupyter-widgets/base",
      "_view_module_version": "1.2.0",
      "_view_name": "LayoutView",
      "align_content": null,
      "align_items": null,
      "align_self": null,
      "border": null,
      "bottom": null,
      "display": null,
      "flex": null,
      "flex_flow": null,
      "grid_area": null,
      "grid_auto_columns": null,
      "grid_auto_flow": null,
      "grid_auto_rows": null,
      "grid_column": null,
      "grid_gap": null,
      "grid_row": null,
      "grid_template_areas": null,
      "grid_template_columns": null,
      "grid_template_rows": null,
      "height": null,
      "justify_content": null,
      "justify_items": null,
      "left": null,
      "margin": null,
      "max_height": null,
      "max_width": null,
      "min_height": null,
      "min_width": null,
      "object_fit": null,
      "object_position": null,
      "order": null,
      "overflow": null,
      "overflow_x": null,
      "overflow_y": null,
      "padding": null,
      "right": null,
      "top": null,
      "visibility": null,
      "width": null
     }
    },
    "f82d82f7b4ab4ee4b6dce82e269e20d9": {
     "model_module": "@jupyter-widgets/controls",
     "model_module_version": "1.5.0",
     "model_name": "ProgressStyleModel",
     "state": {
      "_model_module": "@jupyter-widgets/controls",
      "_model_module_version": "1.5.0",
      "_model_name": "ProgressStyleModel",
      "_view_count": null,
      "_view_module": "@jupyter-widgets/base",
      "_view_module_version": "1.2.0",
      "_view_name": "StyleView",
      "bar_color": null,
      "description_width": ""
     }
    },
    "f9fb6123f6784de7bde185d36e6eac28": {
     "model_module": "@jupyter-widgets/controls",
     "model_module_version": "1.5.0",
     "model_name": "HBoxModel",
     "state": {
      "_dom_classes": [],
      "_model_module": "@jupyter-widgets/controls",
      "_model_module_version": "1.5.0",
      "_model_name": "HBoxModel",
      "_view_count": null,
      "_view_module": "@jupyter-widgets/controls",
      "_view_module_version": "1.5.0",
      "_view_name": "HBoxView",
      "box_style": "",
      "children": [
       "IPY_MODEL_0ab9317bc3654c06b938ae2cd29035d7",
       "IPY_MODEL_7a433685d79f4859a23a1a012ec9640b",
       "IPY_MODEL_8cc2078175b44094918798344824c275"
      ],
      "layout": "IPY_MODEL_29331652749544e9a303e626f10b4bce"
     }
    }
   }
  }
 },
 "nbformat": 4,
 "nbformat_minor": 1
}
