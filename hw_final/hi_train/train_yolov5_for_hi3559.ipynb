{
 "cells": [
  {
   "cell_type": "markdown",
   "metadata": {},
   "source": [
    "# Обучение YOLO для NNIE процессора Hi3559\n",
    "\n",
    "\n",
    "Исходные материалы:\n",
    "- https://www.programmersought.com/article/458411298417/\n",
    "- https://github.com/mahxn0/Yolov5-Hisi3559a-Train"
   ]
  },
  {
   "cell_type": "markdown",
   "metadata": {},
   "source": [
    "## Подготовка\n",
    "\n",
    "Действия выполнялись в Ubuntu-22.04 под WSL2. Была установлена [Anaconda](https://docs.anaconda.com/anaconda/install/linux/)\n",
    "\n",
    "1. Скачать репозиторий YOLOv5\n",
    "    1. `git clone https://github.com/ultralytics/yolov5.git`\n",
    "    2. `cd yolov5`\n",
    "    3. `git reset --hard 69be8e738`\n",
    "\n",
    "2. Настроить виртуальное окружение в Anaconda\n",
    "   1. `conda create --name hi_yolov5 python=3.7.9 -y`\n",
    "   2. `conda activate hi_yolov5`\n",
    "   3. Отредактировать requirements.txt:\n",
    "      - удалить строки Coremltools, onnx, Scikit-Learn \"#\", \n",
    "      - добавить строку \"onnx-simplifier\"\n",
    "   4. `pip install -r requirements.txt`"
   ]
  },
  {
   "cell_type": "markdown",
   "metadata": {},
   "source": [
    "## Загрузка датасета"
   ]
  },
  {
   "cell_type": "code",
   "execution_count": 13,
   "metadata": {},
   "outputs": [
    {
     "name": "stdout",
     "output_type": "stream",
     "text": [
      "/home/user/projects/otus\n"
     ]
    }
   ],
   "source": [
    "%cd ..\n"
   ]
  },
  {
   "cell_type": "code",
   "execution_count": 14,
   "metadata": {},
   "outputs": [
    {
     "name": "stdout",
     "output_type": "stream",
     "text": [
      "/home/user/projects/otus/yolov5\n",
      "Requirement already satisfied: roboflow in /home/user/anaconda3/envs/yolov5/lib/python3.7/site-packages (1.1.6)\n",
      "Requirement already satisfied: PyYAML>=5.3.1 in /home/user/anaconda3/envs/yolov5/lib/python3.7/site-packages (from roboflow) (6.0.1)\n",
      "Requirement already satisfied: python-dotenv in /home/user/anaconda3/envs/yolov5/lib/python3.7/site-packages (from roboflow) (0.21.1)\n",
      "Requirement already satisfied: pyparsing==2.4.7 in /home/user/anaconda3/envs/yolov5/lib/python3.7/site-packages (from roboflow) (2.4.7)\n",
      "Requirement already satisfied: Pillow>=7.1.2 in /home/user/anaconda3/envs/yolov5/lib/python3.7/site-packages (from roboflow) (9.5.0)\n",
      "Requirement already satisfied: tqdm>=4.41.0 in /home/user/anaconda3/envs/yolov5/lib/python3.7/site-packages (from roboflow) (4.66.5)\n",
      "Requirement already satisfied: python-dateutil in /home/user/anaconda3/envs/yolov5/lib/python3.7/site-packages (from roboflow) (2.9.0.post0)\n",
      "Requirement already satisfied: certifi==2022.12.7 in /home/user/anaconda3/envs/yolov5/lib/python3.7/site-packages (from roboflow) (2022.12.7)\n",
      "Requirement already satisfied: cycler==0.10.0 in /home/user/anaconda3/envs/yolov5/lib/python3.7/site-packages (from roboflow) (0.10.0)\n",
      "Requirement already satisfied: chardet==4.0.0 in /home/user/anaconda3/envs/yolov5/lib/python3.7/site-packages (from roboflow) (4.0.0)\n",
      "Requirement already satisfied: opencv-python-headless==4.8.0.74 in /home/user/anaconda3/envs/yolov5/lib/python3.7/site-packages (from roboflow) (4.8.0.74)\n",
      "Requirement already satisfied: six in /home/user/anaconda3/envs/yolov5/lib/python3.7/site-packages (from roboflow) (1.16.0)\n",
      "Requirement already satisfied: supervision in /home/user/anaconda3/envs/yolov5/lib/python3.7/site-packages (from roboflow) (0.11.1)\n",
      "Requirement already satisfied: matplotlib in /home/user/anaconda3/envs/yolov5/lib/python3.7/site-packages (from roboflow) (3.5.3)\n",
      "Requirement already satisfied: kiwisolver>=1.3.1 in /home/user/anaconda3/envs/yolov5/lib/python3.7/site-packages (from roboflow) (1.4.5)\n",
      "Requirement already satisfied: urllib3>=1.26.6 in /home/user/anaconda3/envs/yolov5/lib/python3.7/site-packages (from roboflow) (2.0.7)\n",
      "Requirement already satisfied: requests-toolbelt in /home/user/anaconda3/envs/yolov5/lib/python3.7/site-packages (from roboflow) (1.0.0)\n",
      "Requirement already satisfied: numpy>=1.18.5 in /home/user/anaconda3/envs/yolov5/lib/python3.7/site-packages (from roboflow) (1.21.6)\n",
      "Requirement already satisfied: idna==2.10 in /home/user/anaconda3/envs/yolov5/lib/python3.7/site-packages (from roboflow) (2.10)\n",
      "Requirement already satisfied: requests in /home/user/anaconda3/envs/yolov5/lib/python3.7/site-packages (from roboflow) (2.31.0)\n",
      "Requirement already satisfied: typing-extensions in /home/user/anaconda3/envs/yolov5/lib/python3.7/site-packages (from kiwisolver>=1.3.1->roboflow) (4.7.1)\n",
      "Requirement already satisfied: packaging>=20.0 in /home/user/anaconda3/envs/yolov5/lib/python3.7/site-packages (from matplotlib->roboflow) (24.0)\n",
      "Requirement already satisfied: fonttools>=4.22.0 in /home/user/anaconda3/envs/yolov5/lib/python3.7/site-packages (from matplotlib->roboflow) (4.38.0)\n",
      "Requirement already satisfied: charset-normalizer<4,>=2 in /home/user/anaconda3/envs/yolov5/lib/python3.7/site-packages (from requests->roboflow) (3.3.2)\n",
      "Requirement already satisfied: opencv-python in /home/user/anaconda3/envs/yolov5/lib/python3.7/site-packages (from supervision->roboflow) (4.10.0.84)\n",
      "loading Roboflow workspace...\n",
      "loading Roboflow project...\n"
     ]
    },
    {
     "name": "stderr",
     "output_type": "stream",
     "text": [
      "Downloading Dataset Version Zip in OD_AI-14 to yolov5pytorch:: 100%|██████████| 135728/135728 [00:10<00:00, 12656.30it/s]"
     ]
    },
    {
     "name": "stdout",
     "output_type": "stream",
     "text": [
      "\n"
     ]
    },
    {
     "name": "stderr",
     "output_type": "stream",
     "text": [
      "\n",
      "Extracting Dataset Version Zip to OD_AI-14 in yolov5pytorch:: 100%|██████████| 4598/4598 [00:00<00:00, 8460.68it/s]\n"
     ]
    }
   ],
   "source": [
    "%cd yolov5\n",
    "\n",
    "!pip install roboflow\n",
    "\n",
    "from roboflow import Roboflow\n",
    "rf = Roboflow(api_key=\"G17cDggpZioiUyOSqOsJ\")\n",
    "project = rf.workspace(\"paul-nlfem\").project(\"od_ai\")\n",
    "version = project.version(14)\n",
    "dataset = version.download(\"yolov5\")"
   ]
  },
  {
   "cell_type": "code",
   "execution_count": 15,
   "metadata": {},
   "outputs": [
    {
     "name": "stdout",
     "output_type": "stream",
     "text": [
      "/home/user/projects/otus/yolov5\n",
      "names:\n",
      "- harvester\n",
      "- person\n",
      "- post\n",
      "- tractor\n",
      "nc: 4\n",
      "roboflow:\n",
      "  license: CC BY 4.0\n",
      "  project: od_ai\n",
      "  url: https://universe.roboflow.com/paul-nlfem/od_ai/dataset/14\n",
      "  version: 14\n",
      "  workspace: paul-nlfem\n",
      "test: ../test/images\n",
      "train: OD_AI-14/train/images\n",
      "val: OD_AI-14/valid/images\n"
     ]
    }
   ],
   "source": [
    "YOLO5_PATH = %pwd\n",
    "print(YOLO5_PATH)\n",
    "%cat {dataset.location}/data.yaml"
   ]
  },
  {
   "cell_type": "markdown",
   "metadata": {},
   "source": [
    "## Модификация архитектуры сети\n",
    "\n",
    "Опциональные шаги, оставлю для истории, поскольку у нас используется собственный датасет:\n",
    "> Modify the training parameters and model structure  \n",
    ">\t A. Modify the number of categories, category names, trains/test/val in the data/coco.yaml file, and modify it according to your own project planning  \n",
    ">\t B. Modify the number of categories in the Models/YOLOV5s.yaml file  \n",
    "\n",
    "\n",
    ">\t C. Modify the network structure in the Models/YOLOV5S.yaml, modify the Focus layer to convolutional layer, and set the Stride to 2  \n",
    "\t\n",
    "  backbone:\n",
    "```\n",
    "  # [from, number, module, args]\n",
    "  # [[-1, 1, Focus, [64, 3]],  # 0-P1/2\n",
    "  [\n",
    "   [-1, 1, Conv, [64, 3, 2]],\n",
    "   [-1, 1, Conv, [128, 3, 2]],  # 1-P2/4\n",
    "   [-1, 3, C3, [128]],`\n",
    "   [-1, 1, Conv, [256, 3, 2]],  # 3-P3/8\n",
    "   [-1, 9, C3, [256]],\n",
    "   [-1, 1, Conv, [512, 3, 2]],  # 5-P4/16\n",
    "   [-1, 9, C3, [512]],\n",
    "   [-1, 1, Conv, [1024, 3, 2]],  # 7-P5/32\n",
    "   [-1, 1, SPP, [1024, [5, 9, 13]]],\n",
    "   [-1, 3, C3, [1024, False]],  # 9\n",
    "  ]\n",
    "```\n",
    "\n",
    "     Or use YOLOV5 Release6.0 version has removed the Focus layer,\n",
    "  \tbackbone:\n",
    "```\n",
    "  # [from, number, module, args]\n",
    "  [[-1, 1, Conv, [64, 6, 2, 2]],  # 0-P1/2 <--- update\n",
    "   [-1, 1, Conv, [128, 3, 2]],  # 1-P2/4\n",
    "   [-1, 3, C3, [128]],\n",
    "   [-1, 1, Conv, [256, 3, 2]],  # 3-P3/8\n",
    "   [-1, 9, C3, [256]],\n",
    "   [-1, 1, Conv, [512, 3, 2]],  # 5-P4/16\n",
    "   [-1, 9, C3, [512]],\n",
    "   [-1, 1, Conv, [1024, 3, 2]],  # 7-P5/32\n",
    "   [-1, 1, SPP, [1024, [5, 9, 13]]],\n",
    "   [-1, 3, C3, [1024, False]],  # 9\n",
    "  ]\n",
    "```\n",
    "     Or directly\n",
    "  https://github.com/mahxn0/Yolov5-Hisi3559a-Train.git"
   ]
  },
  {
   "cell_type": "markdown",
   "metadata": {},
   "source": [
    "## Обучение кастомной сети на кастомном датасете"
   ]
  },
  {
   "cell_type": "code",
   "execution_count": 16,
   "metadata": {},
   "outputs": [
    {
     "name": "stdout",
     "output_type": "stream",
     "text": [
      "/home/user/projects/otus/yolov5\n",
      "Collecting ultralytics\n",
      "  Downloading ultralytics-8.0.151-py3-none-any.whl (616 kB)\n",
      "\u001b[2K     \u001b[90m━━━━━━━━━━━━━━━━━━━━━━━━━━━━━━━━━━━━━━━\u001b[0m \u001b[32m616.7/616.7 kB\u001b[0m \u001b[31m2.9 MB/s\u001b[0m eta \u001b[36m0:00:00\u001b[0ma \u001b[36m0:00:01\u001b[0m\n",
      "\u001b[?25hRequirement already satisfied: matplotlib>=3.2.2 in /home/user/anaconda3/envs/yolov5/lib/python3.7/site-packages (from ultralytics) (3.5.3)\n",
      "Requirement already satisfied: torch>=1.7.0 in /home/user/anaconda3/envs/yolov5/lib/python3.7/site-packages (from ultralytics) (1.13.1)\n",
      "Requirement already satisfied: seaborn>=0.11.0 in /home/user/anaconda3/envs/yolov5/lib/python3.7/site-packages (from ultralytics) (0.12.2)\n",
      "  Downloading ultralytics-8.0.150-py3-none-any.whl (614 kB)\n",
      "\u001b[2K     \u001b[90m━━━━━━━━━━━━━━━━━━━━━━━━━━━━━━━━━━━━━━\u001b[0m \u001b[32m614.9/614.9 kB\u001b[0m \u001b[31m24.9 MB/s\u001b[0m eta \u001b[36m0:00:00\u001b[0m\n",
      "\u001b[?25h  Downloading ultralytics-8.0.149-py3-none-any.whl (614 kB)\n",
      "\u001b[2K     \u001b[90m━━━━━━━━━━━━━━━━━━━━━━━━━━━━━━━━━━━━━━\u001b[0m \u001b[32m614.4/614.4 kB\u001b[0m \u001b[31m31.1 MB/s\u001b[0m eta \u001b[36m0:00:00\u001b[0m\n",
      "\u001b[?25h  Downloading ultralytics-8.0.148-py3-none-any.whl (606 kB)\n",
      "\u001b[2K     \u001b[90m━━━━━━━━━━━━━━━━━━━━━━━━━━━━━━━━━━━━━━\u001b[0m \u001b[32m606.9/606.9 kB\u001b[0m \u001b[31m29.6 MB/s\u001b[0m eta \u001b[36m0:00:00\u001b[0m\n",
      "\u001b[?25h  Downloading ultralytics-8.0.147-py3-none-any.whl (606 kB)\n",
      "\u001b[2K     \u001b[90m━━━━━━━━━━━━━━━━━━━━━━━━━━━━━━━━━━━━━━\u001b[0m \u001b[32m606.2/606.2 kB\u001b[0m \u001b[31m34.9 MB/s\u001b[0m eta \u001b[36m0:00:00\u001b[0m\n",
      "\u001b[?25h  Downloading ultralytics-8.0.146-py3-none-any.whl (605 kB)\n",
      "\u001b[2K     \u001b[90m━━━━━━━━━━━━━━━━━━━━━━━━━━━━━━━━━━━━━━\u001b[0m \u001b[32m605.5/605.5 kB\u001b[0m \u001b[31m30.9 MB/s\u001b[0m eta \u001b[36m0:00:00\u001b[0m\n",
      "\u001b[?25h  Downloading ultralytics-8.0.145-py3-none-any.whl (605 kB)\n",
      "\u001b[2K     \u001b[90m━━━━━━━━━━━━━━━━━━━━━━━━━━━━━━━━━━━━━━━\u001b[0m \u001b[32m605.6/605.6 kB\u001b[0m \u001b[31m2.9 MB/s\u001b[0m eta \u001b[36m0:00:00\u001b[0ma \u001b[36m0:00:01\u001b[0m\n",
      "\u001b[?25hRequirement already satisfied: pandas>=1.1.4 in /home/user/anaconda3/envs/yolov5/lib/python3.7/site-packages (from ultralytics) (1.3.5)\n",
      "Requirement already satisfied: opencv-python>=4.6.0 in /home/user/anaconda3/envs/yolov5/lib/python3.7/site-packages (from ultralytics) (4.10.0.84)\n",
      "Requirement already satisfied: pillow>=7.1.2 in /home/user/anaconda3/envs/yolov5/lib/python3.7/site-packages (from ultralytics) (9.5.0)\n",
      "Collecting py-cpuinfo\n",
      "  Downloading py_cpuinfo-9.0.0-py3-none-any.whl (22 kB)\n",
      "Requirement already satisfied: requests>=2.23.0 in /home/user/anaconda3/envs/yolov5/lib/python3.7/site-packages (from ultralytics) (2.31.0)\n",
      "Requirement already satisfied: tqdm>=4.64.0 in /home/user/anaconda3/envs/yolov5/lib/python3.7/site-packages (from ultralytics) (4.66.5)\n",
      "Requirement already satisfied: psutil in /home/user/anaconda3/envs/yolov5/lib/python3.7/site-packages (from ultralytics) (5.9.3)\n",
      "Requirement already satisfied: scipy>=1.4.1 in /home/user/anaconda3/envs/yolov5/lib/python3.7/site-packages (from ultralytics) (1.7.3)\n",
      "Requirement already satisfied: torchvision>=0.8.1 in /home/user/anaconda3/envs/yolov5/lib/python3.7/site-packages (from ultralytics) (0.14.1)\n",
      "Requirement already satisfied: pyyaml>=5.3.1 in /home/user/anaconda3/envs/yolov5/lib/python3.7/site-packages (from ultralytics) (6.0.1)\n",
      "Requirement already satisfied: python-dateutil>=2.7 in /home/user/anaconda3/envs/yolov5/lib/python3.7/site-packages (from matplotlib>=3.2.2->ultralytics) (2.9.0.post0)\n",
      "Requirement already satisfied: packaging>=20.0 in /home/user/anaconda3/envs/yolov5/lib/python3.7/site-packages (from matplotlib>=3.2.2->ultralytics) (24.0)\n",
      "Requirement already satisfied: numpy>=1.17 in /home/user/anaconda3/envs/yolov5/lib/python3.7/site-packages (from matplotlib>=3.2.2->ultralytics) (1.21.6)\n",
      "Requirement already satisfied: cycler>=0.10 in /home/user/anaconda3/envs/yolov5/lib/python3.7/site-packages (from matplotlib>=3.2.2->ultralytics) (0.10.0)\n",
      "Requirement already satisfied: fonttools>=4.22.0 in /home/user/anaconda3/envs/yolov5/lib/python3.7/site-packages (from matplotlib>=3.2.2->ultralytics) (4.38.0)\n",
      "Requirement already satisfied: pyparsing>=2.2.1 in /home/user/anaconda3/envs/yolov5/lib/python3.7/site-packages (from matplotlib>=3.2.2->ultralytics) (2.4.7)\n",
      "Requirement already satisfied: kiwisolver>=1.0.1 in /home/user/anaconda3/envs/yolov5/lib/python3.7/site-packages (from matplotlib>=3.2.2->ultralytics) (1.4.5)\n",
      "Requirement already satisfied: pytz>=2017.3 in /home/user/anaconda3/envs/yolov5/lib/python3.7/site-packages (from pandas>=1.1.4->ultralytics) (2024.2)\n",
      "Requirement already satisfied: certifi>=2017.4.17 in /home/user/anaconda3/envs/yolov5/lib/python3.7/site-packages (from requests>=2.23.0->ultralytics) (2022.12.7)\n",
      "Requirement already satisfied: charset-normalizer<4,>=2 in /home/user/anaconda3/envs/yolov5/lib/python3.7/site-packages (from requests>=2.23.0->ultralytics) (3.3.2)\n",
      "Requirement already satisfied: idna<4,>=2.5 in /home/user/anaconda3/envs/yolov5/lib/python3.7/site-packages (from requests>=2.23.0->ultralytics) (2.10)\n",
      "Requirement already satisfied: urllib3<3,>=1.21.1 in /home/user/anaconda3/envs/yolov5/lib/python3.7/site-packages (from requests>=2.23.0->ultralytics) (2.0.7)\n",
      "Requirement already satisfied: typing_extensions in /home/user/anaconda3/envs/yolov5/lib/python3.7/site-packages (from seaborn>=0.11.0->ultralytics) (4.7.1)\n",
      "Requirement already satisfied: nvidia-cuda-nvrtc-cu11==11.7.99 in /home/user/anaconda3/envs/yolov5/lib/python3.7/site-packages (from torch>=1.7.0->ultralytics) (11.7.99)\n",
      "Requirement already satisfied: nvidia-cublas-cu11==11.10.3.66 in /home/user/anaconda3/envs/yolov5/lib/python3.7/site-packages (from torch>=1.7.0->ultralytics) (11.10.3.66)\n",
      "Requirement already satisfied: nvidia-cuda-runtime-cu11==11.7.99 in /home/user/anaconda3/envs/yolov5/lib/python3.7/site-packages (from torch>=1.7.0->ultralytics) (11.7.99)\n",
      "Requirement already satisfied: nvidia-cudnn-cu11==8.5.0.96 in /home/user/anaconda3/envs/yolov5/lib/python3.7/site-packages (from torch>=1.7.0->ultralytics) (8.5.0.96)\n",
      "Requirement already satisfied: wheel in /home/user/anaconda3/envs/yolov5/lib/python3.7/site-packages (from nvidia-cublas-cu11==11.10.3.66->torch>=1.7.0->ultralytics) (0.38.4)\n",
      "Requirement already satisfied: setuptools in /home/user/anaconda3/envs/yolov5/lib/python3.7/site-packages (from nvidia-cublas-cu11==11.10.3.66->torch>=1.7.0->ultralytics) (65.6.3)\n",
      "Requirement already satisfied: six in /home/user/anaconda3/envs/yolov5/lib/python3.7/site-packages (from cycler>=0.10->matplotlib>=3.2.2->ultralytics) (1.16.0)\n",
      "Installing collected packages: py-cpuinfo, ultralytics\n",
      "Successfully installed py-cpuinfo-9.0.0 ultralytics-8.0.145\n",
      "WARNING ⚠️ Ultralytics settings reset to default values. This may be due to a possible problem with your settings or a recent ultralytics package update. \n",
      "View settings with 'yolo settings' or at '/home/user/.config/Ultralytics/settings.yaml'\n",
      "Update settings with 'yolo settings key=value', i.e. 'yolo settings runs_dir=path/to/dir'.\n",
      "\u001b[31m\u001b[1mrequirements:\u001b[0m Ultralytics requirement ['gitpython'] not found, attempting AutoUpdate...\n",
      "Collecting gitpython\n",
      "  Downloading GitPython-3.1.43-py3-none-any.whl (207 kB)\n",
      "     ━━━━━━━━━━━━━━━━━━━━━━━━━━━━━━━━━━━━━━━ 207.3/207.3 kB 1.7 MB/s eta 0:00:00\n",
      "Collecting gitdb<5,>=4.0.1\n",
      "  Downloading gitdb-4.0.11-py3-none-any.whl (62 kB)\n",
      "     ━━━━━━━━━━━━━━━━━━━━━━━━━━━━━━━━━━━━━━━━ 62.7/62.7 kB 8.1 MB/s eta 0:00:00\n",
      "Requirement already satisfied: typing-extensions>=3.7.4.3 in /home/user/anaconda3/envs/yolov5/lib/python3.7/site-packages (from gitpython) (4.7.1)\n",
      "Collecting smmap<6,>=3.0.1\n",
      "  Downloading smmap-5.0.1-py3-none-any.whl (24 kB)\n",
      "Installing collected packages: smmap, gitdb, gitpython\n",
      "Successfully installed gitdb-4.0.11 gitpython-3.1.43 smmap-5.0.1\n",
      "\n",
      "\u001b[31m\u001b[1mrequirements:\u001b[0m AutoUpdate success ✅ 1.8s, installed 1 package: ['gitpython']\n",
      "\u001b[31m\u001b[1mrequirements:\u001b[0m ⚠️ \u001b[1mRestart runtime or rerun command for updates to take effect\u001b[0m\n",
      "\n",
      "\u001b[34m\u001b[1mtrain: \u001b[0mweights=, cfg=./models/yolov5s.yaml, data=/home/user/projects/otus/yolov5/OD_AI-14/data.yaml, hyp=data/hyps/hyp.scratch-low.yaml, epochs=100, batch_size=16, imgsz=416, rect=False, resume=False, nosave=False, noval=False, noautoanchor=False, noplots=False, evolve=None, evolve_population=data/hyps, resume_evolve=None, bucket=, cache=ram, image_weights=False, device=, multi_scale=False, single_cls=False, optimizer=SGD, sync_bn=False, workers=8, project=runs/train, name=yolov5s_results, exist_ok=False, quad=False, cos_lr=False, label_smoothing=0.0, patience=100, freeze=[0], save_period=-1, seed=0, local_rank=-1, entity=None, upload_dataset=False, bbox_interval=-1, artifact_alias=latest, ndjson_console=False, ndjson_file=False\n",
      "\u001b[34m\u001b[1mgithub: \u001b[0mup to date with https://github.com/ultralytics/yolov5 ✅\n",
      "\u001b[31m\u001b[1mrequirements:\u001b[0m Ultralytics requirement ['pillow>=10.3.0'] not found, attempting AutoUpdate...\n",
      "\u001b[31mERROR: Ignored the following versions that require a different python version: 10.0.0 Requires-Python >=3.8; 10.0.1 Requires-Python >=3.8; 10.1.0 Requires-Python >=3.8; 10.2.0 Requires-Python >=3.8; 10.3.0 Requires-Python >=3.8; 10.4.0 Requires-Python >=3.8\u001b[0m\u001b[31m\n",
      "\u001b[0m\u001b[31mERROR: Could not find a version that satisfies the requirement pillow>=10.3.0 (from versions: 1.0, 1.1, 1.2, 1.3, 1.4, 1.5, 1.6, 1.7.0, 1.7.1, 1.7.2, 1.7.3, 1.7.4, 1.7.5, 1.7.6, 1.7.7, 1.7.8, 2.0.0, 2.1.0, 2.2.0, 2.2.1, 2.2.2, 2.3.0, 2.3.1, 2.3.2, 2.4.0, 2.5.0, 2.5.1, 2.5.2, 2.5.3, 2.6.0, 2.6.1, 2.6.2, 2.7.0, 2.8.0, 2.8.1, 2.8.2, 2.9.0, 3.0.0, 3.1.0rc1, 3.1.0, 3.1.1, 3.1.2, 3.2.0, 3.3.0, 3.3.1, 3.3.2, 3.3.3, 3.4.0, 3.4.1, 3.4.2, 4.0.0, 4.1.0, 4.1.1, 4.2.0, 4.2.1, 4.3.0, 5.0.0, 5.1.0, 5.2.0, 5.3.0, 5.4.0, 5.4.1, 6.0.0, 6.1.0, 6.2.0, 6.2.1, 6.2.2, 7.0.0, 7.1.0, 7.1.1, 7.1.2, 7.2.0, 8.0.0, 8.0.1, 8.1.0, 8.1.1, 8.1.2, 8.2.0, 8.3.0, 8.3.1, 8.3.2, 8.4.0, 9.0.0, 9.0.1, 9.1.0, 9.1.1, 9.2.0, 9.3.0, 9.4.0, 9.5.0)\u001b[0m\u001b[31m\n",
      "\u001b[0m\u001b[31mERROR: No matching distribution found for pillow>=10.3.0\u001b[0m\u001b[31m\n",
      "\u001b[0m\u001b[31m\u001b[1mrequirements:\u001b[0m ❌ Command 'pip install --no-cache \"pillow>=10.3.0\"  ' returned non-zero exit status 1.\n",
      "YOLOv5 🚀 v7.0-366-gf7322921 Python-3.7.12 torch-1.13.1+cu117 CPU\n",
      "\n",
      "\u001b[34m\u001b[1mhyperparameters: \u001b[0mlr0=0.01, lrf=0.01, momentum=0.937, weight_decay=0.0005, warmup_epochs=3.0, warmup_momentum=0.8, warmup_bias_lr=0.1, box=0.05, cls=0.5, cls_pw=1.0, obj=1.0, obj_pw=1.0, iou_t=0.2, anchor_t=4.0, fl_gamma=0.0, hsv_h=0.015, hsv_s=0.7, hsv_v=0.4, degrees=0.0, translate=0.1, scale=0.5, shear=0.0, perspective=0.0, flipud=0.0, fliplr=0.5, mosaic=1.0, mixup=0.0, copy_paste=0.0\n",
      "\u001b[34m\u001b[1mComet: \u001b[0mrun 'pip install comet_ml' to automatically track and visualize YOLOv5 🚀 runs in Comet\n",
      "\u001b[34m\u001b[1mTensorBoard: \u001b[0mStart with 'tensorboard --logdir runs/train', view at http://localhost:6006/\n",
      "Downloading https://github.com/ultralytics/assets/releases/download/v0.0.0/Arial.ttf to /home/user/.config/Ultralytics/Arial.ttf...\n",
      "100%|████████████████████████████████████████| 755k/755k [00:00<00:00, 6.16MB/s]\n",
      "\n",
      "                 from  n    params  module                                  arguments                     \n",
      "  0                -1  1      3520  models.common.Conv                      [3, 32, 6, 2, 2]              \n",
      "  1                -1  1     18560  models.common.Conv                      [32, 64, 3, 2]                \n",
      "  2                -1  1     18816  models.common.C3                        [64, 64, 1]                   \n",
      "  3                -1  1     73984  models.common.Conv                      [64, 128, 3, 2]               \n",
      "  4                -1  2    115712  models.common.C3                        [128, 128, 2]                 \n",
      "  5                -1  1    295424  models.common.Conv                      [128, 256, 3, 2]              \n",
      "  6                -1  3    625152  models.common.C3                        [256, 256, 3]                 \n",
      "  7                -1  1   1180672  models.common.Conv                      [256, 512, 3, 2]              \n",
      "  8                -1  1   1182720  models.common.C3                        [512, 512, 1]                 \n",
      "  9                -1  1    656896  models.common.SPPF                      [512, 512, 5]                 \n",
      " 10                -1  1    131584  models.common.Conv                      [512, 256, 1, 1]              \n",
      " 11                -1  1         0  torch.nn.modules.upsampling.Upsample    [None, 2, 'nearest']          \n",
      " 12           [-1, 6]  1         0  models.common.Concat                    [1]                           \n",
      " 13                -1  1    361984  models.common.C3                        [512, 256, 1, False]          \n",
      " 14                -1  1     33024  models.common.Conv                      [256, 128, 1, 1]              \n",
      " 15                -1  1         0  torch.nn.modules.upsampling.Upsample    [None, 2, 'nearest']          \n",
      " 16           [-1, 4]  1         0  models.common.Concat                    [1]                           \n",
      " 17                -1  1     90880  models.common.C3                        [256, 128, 1, False]          \n",
      " 18                -1  1    147712  models.common.Conv                      [128, 128, 3, 2]              \n",
      " 19          [-1, 14]  1         0  models.common.Concat                    [1]                           \n",
      " 20                -1  1    296448  models.common.C3                        [256, 256, 1, False]          \n",
      " 21                -1  1    590336  models.common.Conv                      [256, 256, 3, 2]              \n",
      " 22          [-1, 10]  1         0  models.common.Concat                    [1]                           \n",
      " 23                -1  1   1182720  models.common.C3                        [512, 512, 1, False]          \n",
      " 24      [17, 20, 23]  1     24273  models.yolo.Detect                      [4, [[10, 13, 16, 30, 33, 23], [30, 61, 62, 45, 59, 119], [116, 90, 156, 198, 373, 326]], [128, 256, 512]]\n",
      "YOLOv5s summary: 214 layers, 7030417 parameters, 7030417 gradients, 16.0 GFLOPs\n",
      "\n",
      "\u001b[34m\u001b[1moptimizer:\u001b[0m SGD(lr=0.01) with parameter groups 57 weight(decay=0.0), 60 weight(decay=0.0005), 60 bias\n",
      "\u001b[34m\u001b[1mtrain: \u001b[0mScanning /home/user/projects/otus/yolov5/OD_AI-14/train/labels... 2007 im\u001b[0m\n",
      "\u001b[34m\u001b[1mtrain: \u001b[0mNew cache created: /home/user/projects/otus/yolov5/OD_AI-14/train/labels.cache\n",
      "\u001b[34m\u001b[1mtrain: \u001b[0mCaching images (1.0GB ram): 100%|██████████| 2007/2007 [00:01<00:00, 1042\u001b[0m\n",
      "\u001b[34m\u001b[1mval: \u001b[0mScanning /home/user/projects/otus/yolov5/OD_AI-14/valid/labels... 144 image\u001b[0m\n",
      "\u001b[34m\u001b[1mval: \u001b[0mNew cache created: /home/user/projects/otus/yolov5/OD_AI-14/valid/labels.cache\n",
      "\u001b[34m\u001b[1mval: \u001b[0mCaching images (0.1GB ram): 100%|██████████| 144/144 [00:00<00:00, 533.23it\u001b[0m\n",
      "\n",
      "\u001b[34m\u001b[1mAutoAnchor: \u001b[0m3.00 anchors/target, 0.980 Best Possible Recall (BPR). Current anchors are a good fit to dataset ✅\n",
      "Plotting labels to runs/train/yolov5s_results/labels.jpg... \n",
      "Image sizes 416 train, 416 val\n",
      "Using 8 dataloader workers\n",
      "Logging results to \u001b[1mruns/train/yolov5s_results\u001b[0m\n",
      "Starting training for 100 epochs...\n",
      "\n",
      "      Epoch    GPU_mem   box_loss   obj_loss   cls_loss  Instances       Size\n",
      "       0/99         0G     0.1084    0.02508    0.04484        140        416:  ^C\n",
      "       0/99         0G     0.1084    0.02508    0.04484        140        416:  \n",
      "Traceback (most recent call last):\n",
      "  File \"train.py\", line 986, in <module>\n",
      "    main(opt)\n",
      "  File \"train.py\", line 688, in main\n",
      "    train(opt.hyp, opt, device, callbacks)\n",
      "  File \"train.py\", line 413, in train\n",
      "    pred = model(imgs)  # forward\n",
      "  File \"/home/user/anaconda3/envs/yolov5/lib/python3.7/site-packages/torch/nn/modules/module.py\", line 1194, in _call_impl\n",
      "    return forward_call(*input, **kwargs)\n",
      "  File \"/home/user/projects/otus/yolov5/models/yolo.py\", line 270, in forward\n",
      "    return self._forward_once(x, profile, visualize)  # single-scale inference, train\n",
      "  File \"/home/user/projects/otus/yolov5/models/yolo.py\", line 169, in _forward_once\n",
      "    x = m(x)  # run\n",
      "  File \"/home/user/anaconda3/envs/yolov5/lib/python3.7/site-packages/torch/nn/modules/module.py\", line 1194, in _call_impl\n",
      "    return forward_call(*input, **kwargs)\n",
      "  File \"/home/user/projects/otus/yolov5/models/common.py\", line 87, in forward\n",
      "    return self.act(self.bn(self.conv(x)))\n",
      "  File \"/home/user/anaconda3/envs/yolov5/lib/python3.7/site-packages/torch/nn/modules/module.py\", line 1194, in _call_impl\n",
      "    return forward_call(*input, **kwargs)\n",
      "  File \"/home/user/anaconda3/envs/yolov5/lib/python3.7/site-packages/torch/nn/modules/batchnorm.py\", line 182, in forward\n",
      "    self.eps,\n",
      "  File \"/home/user/anaconda3/envs/yolov5/lib/python3.7/site-packages/torch/nn/functional.py\", line 2451, in batch_norm\n",
      "    input, weight, bias, running_mean, running_var, training, momentum, eps, torch.backends.cudnn.enabled\n",
      "KeyboardInterrupt\n"
     ]
    }
   ],
   "source": [
    "%cd $YOLO5_PATH\n",
    "!python3 train.py --img 416 --batch 16 --epochs 100 --data {dataset.location}/data.yaml --cfg ./models/yolov5s.yaml --weights '' --name yolov5s_results  --cache"
   ]
  }
 ],
 "metadata": {
  "kernelspec": {
   "display_name": "yolov5",
   "language": "python",
   "name": "python3"
  },
  "language_info": {
   "codemirror_mode": {
    "name": "ipython",
    "version": 3
   },
   "file_extension": ".py",
   "mimetype": "text/x-python",
   "name": "python",
   "nbconvert_exporter": "python",
   "pygments_lexer": "ipython3",
   "version": "3.7.12"
  }
 },
 "nbformat": 4,
 "nbformat_minor": 2
}
